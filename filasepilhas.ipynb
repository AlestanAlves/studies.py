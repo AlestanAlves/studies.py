{
  "nbformat": 4,
  "nbformat_minor": 0,
  "metadata": {
    "colab": {
      "name": "filasepilhas.ipynb",
      "provenance": [],
      "include_colab_link": true
    },
    "kernelspec": {
      "name": "python3",
      "display_name": "Python 3"
    }
  },
  "cells": [
    {
      "cell_type": "markdown",
      "metadata": {
        "id": "view-in-github",
        "colab_type": "text"
      },
      "source": [
        "<a href=\"https://colab.research.google.com/github/AlestanAlves/studies.py/blob/master/filasepilhas.ipynb\" target=\"_parent\"><img src=\"https://colab.research.google.com/assets/colab-badge.svg\" alt=\"Open In Colab\"/></a>"
      ]
    },
    {
      "cell_type": "code",
      "metadata": {
        "id": "l1FZ-10WuCXN",
        "colab_type": "code",
        "outputId": "762775fc-4360-4619-f91f-70f03cbde26f",
        "colab": {
          "base_uri": "https://localhost:8080/",
          "height": 34
        }
      },
      "source": [
        "fila = ['aleshow', 'coruja', 'woody', 'buzz', 'slinky', 'luke', 'leia', 'rey', 'chew', 'han solo']\n",
        "fila.append('barmor')\n",
        "fila.pop(0)"
      ],
      "execution_count": 0,
      "outputs": [
        {
          "output_type": "execute_result",
          "data": {
            "text/plain": [
              "'aleshow'"
            ]
          },
          "metadata": {
            "tags": []
          },
          "execution_count": 22
        }
      ]
    },
    {
      "cell_type": "code",
      "metadata": {
        "id": "GDrlWQEuwxbQ",
        "colab_type": "code",
        "outputId": "5b7f5a35-7fbd-4594-e034-c306659b7b5d",
        "colab": {
          "base_uri": "https://localhost:8080/",
          "height": 34
        }
      },
      "source": [
        "print(fila)"
      ],
      "execution_count": 0,
      "outputs": [
        {
          "output_type": "stream",
          "text": [
            "['coruja', 'woody', 'buzz', 'slinky', 'luke', 'leia', 'rey', 'chew', 'han solo', 'barmor']\n"
          ],
          "name": "stdout"
        }
      ]
    },
    {
      "cell_type": "code",
      "metadata": {
        "id": "EbVcAPTbwzCJ",
        "colab_type": "code",
        "outputId": "0916b91a-9b03-49b5-e04b-f5b2d7320bc2",
        "colab": {
          "base_uri": "https://localhost:8080/",
          "height": 34
        }
      },
      "source": [
        "fila.pop(0 )"
      ],
      "execution_count": 0,
      "outputs": [
        {
          "output_type": "execute_result",
          "data": {
            "text/plain": [
              "'coruja'"
            ]
          },
          "metadata": {
            "tags": []
          },
          "execution_count": 24
        }
      ]
    },
    {
      "cell_type": "code",
      "metadata": {
        "id": "YEg7M2YpxjVL",
        "colab_type": "code",
        "outputId": "94c4bbe1-1895-4b29-fbb5-05632b2c44aa",
        "colab": {
          "base_uri": "https://localhost:8080/",
          "height": 34
        }
      },
      "source": [
        "print(fila)"
      ],
      "execution_count": 0,
      "outputs": [
        {
          "output_type": "stream",
          "text": [
            "['woody', 'buzz', 'slinky', 'luke', 'leia', 'rey', 'chew', 'han solo', 'barmor']\n"
          ],
          "name": "stdout"
        }
      ]
    },
    {
      "cell_type": "code",
      "metadata": {
        "id": "09F132EHxmnN",
        "colab_type": "code",
        "outputId": "e9b7425b-84d7-4ee5-d55c-d49006f4596d",
        "colab": {
          "base_uri": "https://localhost:8080/",
          "height": 34
        }
      },
      "source": [
        "fila.pop(-1)"
      ],
      "execution_count": 0,
      "outputs": [
        {
          "output_type": "execute_result",
          "data": {
            "text/plain": [
              "'barmor'"
            ]
          },
          "metadata": {
            "tags": []
          },
          "execution_count": 29
        }
      ]
    },
    {
      "cell_type": "code",
      "metadata": {
        "id": "W8ll6nRixrr_",
        "colab_type": "code",
        "outputId": "08684876-8455-424f-9193-74adc484e8bd",
        "colab": {
          "base_uri": "https://localhost:8080/",
          "height": 34
        }
      },
      "source": [
        "print(fila)"
      ],
      "execution_count": 0,
      "outputs": [
        {
          "output_type": "stream",
          "text": [
            "['woody', 'buzz', 'slinky', 'luke', 'leia', 'rey', 'chew', 'han solo', 'barmor']\n"
          ],
          "name": "stdout"
        }
      ]
    },
    {
      "cell_type": "code",
      "metadata": {
        "id": "QvbwTISMxw8R",
        "colab_type": "code",
        "outputId": "d68b15f6-70fc-4bed-c092-b7e08c8a26fb",
        "colab": {
          "base_uri": "https://localhost:8080/",
          "height": 34
        }
      },
      "source": [
        "print(fila)"
      ],
      "execution_count": 0,
      "outputs": [
        {
          "output_type": "stream",
          "text": [
            "['woody', 'buzz', 'slinky', 'luke', 'leia', 'rey', 'chew', 'han solo', 'barmor']\n"
          ],
          "name": "stdout"
        }
      ]
    },
    {
      "cell_type": "code",
      "metadata": {
        "id": "CfSA8y_fxycR",
        "colab_type": "code",
        "colab": {}
      },
      "source": [
        "class Fila:\n",
        "    def __init__(self):\n",
        "        self.dados = ['woody', 'buzz', 'slinky', 'luke', 'leia', 'rey', 'chew', 'han solo', 'barmor']\n",
        " \n",
        "    def insere(self, val):\n",
        "      self.dados.append(val)\n",
        "  \n",
        "    def retira(self):\n",
        "      return self.dados.pop(0)"
      ],
      "execution_count": 0,
      "outputs": []
    },
    {
      "cell_type": "code",
      "metadata": {
        "id": "Mlo6uipV6DY4",
        "colab_type": "code",
        "colab": {}
      },
      "source": [
        "f = Fila()"
      ],
      "execution_count": 0,
      "outputs": []
    },
    {
      "cell_type": "code",
      "metadata": {
        "id": "_FlH6Mq27jWb",
        "colab_type": "code",
        "colab": {}
      },
      "source": [
        "f.insere(10)"
      ],
      "execution_count": 0,
      "outputs": []
    },
    {
      "cell_type": "code",
      "metadata": {
        "id": "cx2Tnuyw7lO_",
        "colab_type": "code",
        "colab": {}
      },
      "source": [
        "f.insere(13)"
      ],
      "execution_count": 0,
      "outputs": []
    },
    {
      "cell_type": "code",
      "metadata": {
        "id": "tFNpgzKV_wwM",
        "colab_type": "code",
        "colab": {}
      },
      "source": [
        "f.insere(20)\n",
        "f.insere(40)"
      ],
      "execution_count": 0,
      "outputs": []
    },
    {
      "cell_type": "code",
      "metadata": {
        "id": "bXp3ZY7r_x76",
        "colab_type": "code",
        "outputId": "e5e9f21b-a226-4387-ee04-8ac38b3304a2",
        "colab": {
          "base_uri": "https://localhost:8080/",
          "height": 34
        }
      },
      "source": [
        "print (f.retira())"
      ],
      "execution_count": 0,
      "outputs": [
        {
          "output_type": "stream",
          "text": [
            "woody\n"
          ],
          "name": "stdout"
        }
      ]
    },
    {
      "cell_type": "code",
      "metadata": {
        "id": "ukuQWfJy_zIA",
        "colab_type": "code",
        "outputId": "1ad7709f-66a9-4e4c-fee0-612a8d94047b",
        "colab": {
          "base_uri": "https://localhost:8080/",
          "height": 34
        }
      },
      "source": [
        "print (f.retira())"
      ],
      "execution_count": 0,
      "outputs": [
        {
          "output_type": "stream",
          "text": [
            "buzz\n"
          ],
          "name": "stdout"
        }
      ]
    },
    {
      "cell_type": "code",
      "metadata": {
        "id": "kUV3StotA4cX",
        "colab_type": "code",
        "outputId": "2cdade26-da1d-4afb-86b7-888cc062016d",
        "colab": {
          "base_uri": "https://localhost:8080/",
          "height": 52
        }
      },
      "source": [
        "def eae():\n",
        "    print (\"eae, \")\n",
        "    mundo()\n",
        " \n",
        "def mundo():\n",
        "    print (\"mundo!\")\n",
        " \n",
        "def olamundo():\n",
        "    eae()\n",
        " \n",
        "olamundo()"
      ],
      "execution_count": 1,
      "outputs": [
        {
          "output_type": "stream",
          "text": [
            "eae, \n",
            "mundo!\n"
          ],
          "name": "stdout"
        }
      ]
    },
    {
      "cell_type": "markdown",
      "metadata": {
        "id": "hT5T3lGZHvTr",
        "colab_type": "text"
      },
      "source": [
        "\n",
        "\n",
        "```\n",
        "                 ola()\n",
        "olamundo()  -->  olamundo()  --> olamundo() -->   Fim do programa.\n",
        "```\n",
        "\n"
      ]
    },
    {
      "cell_type": "code",
      "metadata": {
        "id": "VykW-ASoHmya",
        "colab_type": "code",
        "colab": {}
      },
      "source": [
        "class Pilha(object):\n",
        "    def __init__(self):\n",
        "        self.dados = []\n",
        " \n",
        "    def emp(self, elemento):\n",
        "        self.dados.append(elemento)\n",
        " \n",
        "    def desemp(self):\n",
        "        if not self.vazia():\n",
        "            return self.dados.pop(-1)\n",
        " \n",
        "    def vazia(self):\n",
        "        return len(self.dados) == 0"
      ],
      "execution_count": 0,
      "outputs": []
    },
    {
      "cell_type": "code",
      "metadata": {
        "id": "vNXvNkByID5B",
        "colab_type": "code",
        "colab": {
          "base_uri": "https://localhost:8080/",
          "height": 69
        },
        "outputId": "361ce4fa-ae94-4f33-fcb1-a789ac2957a2"
      },
      "source": [
        "def mensagem(msg):\n",
        "  print('-'*30)\n",
        "  print(' '*10, msg, ' '*10)\n",
        "  print('-'*30)\n",
        "\n",
        "mensagem('ALESHOW')"
      ],
      "execution_count": 11,
      "outputs": [
        {
          "output_type": "stream",
          "text": [
            "------------------------------\n",
            "           ALESHOW           \n",
            "------------------------------\n"
          ],
          "name": "stdout"
        }
      ]
    },
    {
      "cell_type": "code",
      "metadata": {
        "id": "7mMPYCLMMHgY",
        "colab_type": "code",
        "colab": {
          "base_uri": "https://localhost:8080/",
          "height": 52
        },
        "outputId": "e75f1069-c971-43b8-f0af-8aa7b6bef0ee"
      },
      "source": [
        "def mult(a, b, c):\n",
        "  print(f'O valor de A é {a}, o valor de b é {b}, o valor de c é {c}')\n",
        "  s = a * b * c\n",
        "  print(f'O valor da multiplicação é {s}')\n",
        "\n",
        "\n",
        "mult(2, 4, 5)"
      ],
      "execution_count": 15,
      "outputs": [
        {
          "output_type": "stream",
          "text": [
            "O valor de A é 2, o valor de b é 4, o valor de c é 5\n",
            "O valor da multiplicação é 40\n"
          ],
          "name": "stdout"
        }
      ]
    },
    {
      "cell_type": "code",
      "metadata": {
        "id": "qtCE9rg4OEpf",
        "colab_type": "code",
        "colab": {
          "base_uri": "https://localhost:8080/",
          "height": 52
        },
        "outputId": "3ac8888d-683d-467e-9c85-5053cdcca871"
      },
      "source": [
        "def cont(*num):\n",
        "  for valor in num:\n",
        "    print(f'{valor}', end=' ')\n",
        "  print(' fim')\n",
        "  tam = len(num)\n",
        "  print(f'essa é a quantidade de números {tam}')\n",
        "\n",
        "cont(4,6,7,8,9,0,1,2)"
      ],
      "execution_count": 23,
      "outputs": [
        {
          "output_type": "stream",
          "text": [
            "4 6 7 8 9 0 1 2  fim\n",
            "essa é a quantidade de números 8\n"
          ],
          "name": "stdout"
        }
      ]
    },
    {
      "cell_type": "code",
      "metadata": {
        "id": "IfMMDPsZRj-U",
        "colab_type": "code",
        "colab": {
          "base_uri": "https://localhost:8080/",
          "height": 34
        },
        "outputId": "aa542dd4-e3d0-4b12-c0ac-d0948db6af70"
      },
      "source": [
        "\n",
        "def dobra(list):\n",
        "  position = 0 \n",
        "  while position < len(list):\n",
        "    list[position] *= 2\n",
        "    position += 1\n",
        "\n",
        "valores = [4, 5, 6, 7, 8, 9, 10]\n",
        "dobra(valores)\n",
        "print(valores)\n"
      ],
      "execution_count": 26,
      "outputs": [
        {
          "output_type": "stream",
          "text": [
            "[8, 10, 12, 14, 16, 18, 20]\n"
          ],
          "name": "stdout"
        }
      ]
    },
    {
      "cell_type": "code",
      "metadata": {
        "id": "P764iLElUdU6",
        "colab_type": "code",
        "colab": {}
      },
      "source": [
        "def soma(*val):\n",
        "  s = 0\n",
        "  for num in val:\n",
        "    s += num\n",
        "  print(f'somando os valores {val} temos {s}')"
      ],
      "execution_count": 0,
      "outputs": []
    },
    {
      "cell_type": "code",
      "metadata": {
        "id": "UVcPgL-4WWDH",
        "colab_type": "code",
        "colab": {
          "base_uri": "https://localhost:8080/",
          "height": 34
        },
        "outputId": "eef6ba91-a2b6-4239-f35d-4a4373753244"
      },
      "source": [
        "soma(4,2)"
      ],
      "execution_count": 30,
      "outputs": [
        {
          "output_type": "stream",
          "text": [
            "somando os valores (4, 2) temos 6\n"
          ],
          "name": "stdout"
        }
      ]
    },
    {
      "cell_type": "code",
      "metadata": {
        "id": "Yl-NTyT4WYUJ",
        "colab_type": "code",
        "colab": {
          "base_uri": "https://localhost:8080/",
          "height": 34
        },
        "outputId": "1149c87f-f71a-47f3-ccad-37d7f4dafa0f"
      },
      "source": [
        " def area(a, b):\n",
        "   m = a * b\n",
        "   print (f'o valor da área é: {m}')\n",
        "\n",
        "area(5, 5)"
      ],
      "execution_count": 2,
      "outputs": [
        {
          "output_type": "stream",
          "text": [
            "o valor da área é: 25\n"
          ],
          "name": "stdout"
        }
      ]
    },
    {
      "cell_type": "code",
      "metadata": {
        "id": "RtVYq2HuboXn",
        "colab_type": "code",
        "colab": {}
      },
      "source": [
        "class Fila():\n",
        "  def __init__(self):\n",
        "    self.items = []\n",
        "\n",
        "  def pega(self, item):\n",
        "    self.item.append(item)\n",
        "\n",
        "  def pop(self):\n",
        "    return self.items.pop()"
      ],
      "execution_count": 0,
      "outputs": []
    }
  ]
}