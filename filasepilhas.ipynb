{
  "nbformat": 4,
  "nbformat_minor": 0,
  "metadata": {
    "colab": {
      "name": "filasepilhas.ipynb",
      "provenance": [],
      "include_colab_link": true
    },
    "kernelspec": {
      "name": "python3",
      "display_name": "Python 3"
    }
  },
  "cells": [
    {
      "cell_type": "markdown",
      "metadata": {
        "id": "view-in-github",
        "colab_type": "text"
      },
      "source": [
        "<a href=\"https://colab.research.google.com/github/AlestanAlves/studies.py/blob/master/filasepilhas.ipynb\" target=\"_parent\"><img src=\"https://colab.research.google.com/assets/colab-badge.svg\" alt=\"Open In Colab\"/></a>"
      ]
    },
    {
      "cell_type": "code",
      "metadata": {
        "id": "l1FZ-10WuCXN",
        "colab_type": "code",
        "colab": {
          "base_uri": "https://localhost:8080/",
          "height": 34
        },
        "outputId": "762775fc-4360-4619-f91f-70f03cbde26f"
      },
      "source": [
        "fila = ['aleshow', 'coruja', 'woody', 'buzz', 'slinky', 'luke', 'leia', 'rey', 'chew', 'han solo']\n",
        "fila.append('barmor')\n",
        "fila.pop(0)"
      ],
      "execution_count": 22,
      "outputs": [
        {
          "output_type": "execute_result",
          "data": {
            "text/plain": [
              "'aleshow'"
            ]
          },
          "metadata": {
            "tags": []
          },
          "execution_count": 22
        }
      ]
    },
    {
      "cell_type": "code",
      "metadata": {
        "id": "GDrlWQEuwxbQ",
        "colab_type": "code",
        "colab": {
          "base_uri": "https://localhost:8080/",
          "height": 34
        },
        "outputId": "5b7f5a35-7fbd-4594-e034-c306659b7b5d"
      },
      "source": [
        "print(fila)"
      ],
      "execution_count": 23,
      "outputs": [
        {
          "output_type": "stream",
          "text": [
            "['coruja', 'woody', 'buzz', 'slinky', 'luke', 'leia', 'rey', 'chew', 'han solo', 'barmor']\n"
          ],
          "name": "stdout"
        }
      ]
    },
    {
      "cell_type": "code",
      "metadata": {
        "id": "EbVcAPTbwzCJ",
        "colab_type": "code",
        "colab": {
          "base_uri": "https://localhost:8080/",
          "height": 34
        },
        "outputId": "0916b91a-9b03-49b5-e04b-f5b2d7320bc2"
      },
      "source": [
        "fila.pop(0 )"
      ],
      "execution_count": 24,
      "outputs": [
        {
          "output_type": "execute_result",
          "data": {
            "text/plain": [
              "'coruja'"
            ]
          },
          "metadata": {
            "tags": []
          },
          "execution_count": 24
        }
      ]
    },
    {
      "cell_type": "code",
      "metadata": {
        "id": "YEg7M2YpxjVL",
        "colab_type": "code",
        "colab": {
          "base_uri": "https://localhost:8080/",
          "height": 34
        },
        "outputId": "94c4bbe1-1895-4b29-fbb5-05632b2c44aa"
      },
      "source": [
        "print(fila)"
      ],
      "execution_count": 25,
      "outputs": [
        {
          "output_type": "stream",
          "text": [
            "['woody', 'buzz', 'slinky', 'luke', 'leia', 'rey', 'chew', 'han solo', 'barmor']\n"
          ],
          "name": "stdout"
        }
      ]
    },
    {
      "cell_type": "code",
      "metadata": {
        "id": "09F132EHxmnN",
        "colab_type": "code",
        "colab": {
          "base_uri": "https://localhost:8080/",
          "height": 34
        },
        "outputId": "e9b7425b-84d7-4ee5-d55c-d49006f4596d"
      },
      "source": [
        "fila.pop(-1)"
      ],
      "execution_count": 29,
      "outputs": [
        {
          "output_type": "execute_result",
          "data": {
            "text/plain": [
              "'barmor'"
            ]
          },
          "metadata": {
            "tags": []
          },
          "execution_count": 29
        }
      ]
    },
    {
      "cell_type": "code",
      "metadata": {
        "id": "W8ll6nRixrr_",
        "colab_type": "code",
        "colab": {
          "base_uri": "https://localhost:8080/",
          "height": 34
        },
        "outputId": "08684876-8455-424f-9193-74adc484e8bd"
      },
      "source": [
        "print(fila)"
      ],
      "execution_count": 27,
      "outputs": [
        {
          "output_type": "stream",
          "text": [
            "['woody', 'buzz', 'slinky', 'luke', 'leia', 'rey', 'chew', 'han solo', 'barmor']\n"
          ],
          "name": "stdout"
        }
      ]
    },
    {
      "cell_type": "code",
      "metadata": {
        "id": "QvbwTISMxw8R",
        "colab_type": "code",
        "colab": {
          "base_uri": "https://localhost:8080/",
          "height": 34
        },
        "outputId": "d68b15f6-70fc-4bed-c092-b7e08c8a26fb"
      },
      "source": [
        "print(fila)"
      ],
      "execution_count": 28,
      "outputs": [
        {
          "output_type": "stream",
          "text": [
            "['woody', 'buzz', 'slinky', 'luke', 'leia', 'rey', 'chew', 'han solo', 'barmor']\n"
          ],
          "name": "stdout"
        }
      ]
    },
    {
      "cell_type": "code",
      "metadata": {
        "id": "CfSA8y_fxycR",
        "colab_type": "code",
        "colab": {}
      },
      "source": [
        "class Fila:\n",
        "    def __init__(self):\n",
        "        self.dados = []\n",
        " \n",
        "    def insere(self, val):\n",
        "      self.dados.append(val)\n",
        "  \n",
        "    def retira(self):\n",
        "      return self.dados.pop(0)"
      ],
      "execution_count": 0,
      "outputs": []
    },
    {
      "cell_type": "code",
      "metadata": {
        "id": "Mlo6uipV6DY4",
        "colab_type": "code",
        "colab": {}
      },
      "source": [
        "f = Fila()"
      ],
      "execution_count": 0,
      "outputs": []
    },
    {
      "cell_type": "code",
      "metadata": {
        "id": "_FlH6Mq27jWb",
        "colab_type": "code",
        "colab": {}
      },
      "source": [
        "f.insere(10)"
      ],
      "execution_count": 0,
      "outputs": []
    },
    {
      "cell_type": "code",
      "metadata": {
        "id": "cx2Tnuyw7lO_",
        "colab_type": "code",
        "colab": {}
      },
      "source": [
        "f.insere(13)"
      ],
      "execution_count": 0,
      "outputs": []
    },
    {
      "cell_type": "code",
      "metadata": {
        "id": "tFNpgzKV_wwM",
        "colab_type": "code",
        "colab": {}
      },
      "source": [
        "f.insere(20)\n",
        "f.insere(40)"
      ],
      "execution_count": 0,
      "outputs": []
    },
    {
      "cell_type": "code",
      "metadata": {
        "id": "bXp3ZY7r_x76",
        "colab_type": "code",
        "colab": {
          "base_uri": "https://localhost:8080/",
          "height": 34
        },
        "outputId": "a97eba99-f9b0-46c0-c621-98431cc7ec72"
      },
      "source": [
        "print (f.retira())"
      ],
      "execution_count": 112,
      "outputs": [
        {
          "output_type": "stream",
          "text": [
            "10\n"
          ],
          "name": "stdout"
        }
      ]
    },
    {
      "cell_type": "code",
      "metadata": {
        "id": "ukuQWfJy_zIA",
        "colab_type": "code",
        "colab": {
          "base_uri": "https://localhost:8080/",
          "height": 34
        },
        "outputId": "e9264c29-c8e3-4c95-cea4-2713f9b61dbc"
      },
      "source": [
        "print (f.retira())"
      ],
      "execution_count": 114,
      "outputs": [
        {
          "output_type": "stream",
          "text": [
            "13\n"
          ],
          "name": "stdout"
        }
      ]
    },
    {
      "cell_type": "code",
      "metadata": {
        "id": "kUV3StotA4cX",
        "colab_type": "code",
        "colab": {}
      },
      "source": [
        ""
      ],
      "execution_count": 0,
      "outputs": []
    }
  ]
}