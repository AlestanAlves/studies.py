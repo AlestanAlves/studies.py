{
  "nbformat": 4,
  "nbformat_minor": 0,
  "metadata": {
    "colab": {
      "name": "controlflow.ipynb",
      "provenance": [],
      "include_colab_link": true
    },
    "kernelspec": {
      "name": "python3",
      "display_name": "Python 3"
    }
  },
  "cells": [
    {
      "cell_type": "markdown",
      "metadata": {
        "id": "view-in-github",
        "colab_type": "text"
      },
      "source": [
        "<a href=\"https://colab.research.google.com/github/AlestanAlves/studies.py/blob/master/controlflow.ipynb\" target=\"_parent\"><img src=\"https://colab.research.google.com/assets/colab-badge.svg\" alt=\"Open In Colab\"/></a>"
      ]
    },
    {
      "cell_type": "markdown",
      "metadata": {
        "id": "HqGrlnqtVJ3V",
        "colab_type": "text"
      },
      "source": [
        "## **if**\n",
        "\n",
        "\n",
        "\n"
      ]
    },
    {
      "cell_type": "code",
      "metadata": {
        "id": "BSp0IzaPQ_RO",
        "colab_type": "code",
        "colab": {
          "base_uri": "https://localhost:8080/",
          "height": 51
        },
        "outputId": "50dc97ca-2776-443b-a13c-f6afe1eb2620"
      },
      "source": [
        "x = int(input('Coloque um número:'))\n",
        "\n",
        "if x < 0:\n",
        "  x = 0\n",
        "  print ('Negative changed to zero')\n",
        "elif x == 0:\n",
        "  print ('Zero')\n",
        "elif x ==1:\n",
        "  print ('Single')\n",
        "else:\n",
        "  print('More')\n"
      ],
      "execution_count": 1,
      "outputs": [
        {
          "output_type": "stream",
          "text": [
            "Coloque um número:10\n",
            "More\n"
          ],
          "name": "stdout"
        }
      ]
    },
    {
      "cell_type": "markdown",
      "metadata": {
        "id": "rzCbdC2XVCuG",
        "colab_type": "text"
      },
      "source": [
        "## **for**"
      ]
    },
    {
      "cell_type": "code",
      "metadata": {
        "id": "4Zlp8geRR8lC",
        "colab_type": "code",
        "colab": {
          "base_uri": "https://localhost:8080/",
          "height": 85
        },
        "outputId": "fb7357e1-d07d-4fe0-c51b-f3aa358bb978"
      },
      "source": [
        "#Measure some strings:\n",
        "words = ['cat', 'dog', 'croc', 'cow']\n",
        "for w in words:\n",
        "  print(w, len(w))"
      ],
      "execution_count": 2,
      "outputs": [
        {
          "output_type": "stream",
          "text": [
            "cat 3\n",
            "dog 3\n",
            "croc 4\n",
            "cow 3\n"
          ],
          "name": "stdout"
        }
      ]
    },
    {
      "cell_type": "code",
      "metadata": {
        "id": "1TFDBUbJS9LC",
        "colab_type": "code",
        "colab": {
          "base_uri": "https://localhost:8080/",
          "height": 102
        },
        "outputId": "e7bce7d0-c0d6-4dc6-be7a-d1179273c6a4"
      },
      "source": [
        "for i in range(10, 15): #começa com 10\n",
        "  print(i)"
      ],
      "execution_count": 10,
      "outputs": [
        {
          "output_type": "stream",
          "text": [
            "10\n",
            "11\n",
            "12\n",
            "13\n",
            "14\n"
          ],
          "name": "stdout"
        }
      ]
    },
    {
      "cell_type": "code",
      "metadata": {
        "id": "hy9f6G7rTmxx",
        "colab_type": "code",
        "colab": {
          "base_uri": "https://localhost:8080/",
          "height": 85
        },
        "outputId": "81f2ee8d-2052-4187-bce1-52561e5e4db7"
      },
      "source": [
        "for i in range(0,10,3):\n",
        "  print(i)"
      ],
      "execution_count": 12,
      "outputs": [
        {
          "output_type": "stream",
          "text": [
            "0\n",
            "3\n",
            "6\n",
            "9\n"
          ],
          "name": "stdout"
        }
      ]
    },
    {
      "cell_type": "code",
      "metadata": {
        "id": "1TFwUgjzT-aG",
        "colab_type": "code",
        "colab": {
          "base_uri": "https://localhost:8080/",
          "height": 102
        },
        "outputId": "8b7bd248-b661-465d-adc9-20d8492d0a30"
      },
      "source": [
        "a = ['Mary', 'had', 'a', 'little', 'lamb']\n",
        "for i in range(len(a)):\n",
        "  print(i, a[i])"
      ],
      "execution_count": 13,
      "outputs": [
        {
          "output_type": "stream",
          "text": [
            "0 Mary\n",
            "1 had\n",
            "2 a\n",
            "3 little\n",
            "4 lamb\n"
          ],
          "name": "stdout"
        }
      ]
    },
    {
      "cell_type": "code",
      "metadata": {
        "id": "2EpKORomUPAp",
        "colab_type": "code",
        "colab": {
          "base_uri": "https://localhost:8080/",
          "height": 34
        },
        "outputId": "58a2c92e-d08b-4545-91cb-22204c7fd8fb"
      },
      "source": [
        "print(range(10))"
      ],
      "execution_count": 14,
      "outputs": [
        {
          "output_type": "stream",
          "text": [
            "range(0, 10)\n"
          ],
          "name": "stdout"
        }
      ]
    },
    {
      "cell_type": "markdown",
      "metadata": {
        "id": "uOEGPKWvUqSp",
        "colab_type": "text"
      },
      "source": [
        "## Range não retorna uma lista"
      ]
    },
    {
      "cell_type": "code",
      "metadata": {
        "id": "8xEIyJ7JUZie",
        "colab_type": "code",
        "colab": {
          "base_uri": "https://localhost:8080/",
          "height": 34
        },
        "outputId": "7382f2fc-c311-4b58-f01e-ac347dea4541"
      },
      "source": [
        "sum(range(10)) #1 + 2 + 3 + 4 + 5 + 6 + 7 + 8 + 9 + 10"
      ],
      "execution_count": 17,
      "outputs": [
        {
          "output_type": "execute_result",
          "data": {
            "text/plain": [
              "45"
            ]
          },
          "metadata": {
            "tags": []
          },
          "execution_count": 17
        }
      ]
    },
    {
      "cell_type": "code",
      "metadata": {
        "id": "mF3kwplKU1Ln",
        "colab_type": "code",
        "colab": {
          "base_uri": "https://localhost:8080/",
          "height": 34
        },
        "outputId": "c7eca931-b8e5-4f2a-902b-8a5f3cf185f0"
      },
      "source": [
        "list(range(4))"
      ],
      "execution_count": 18,
      "outputs": [
        {
          "output_type": "execute_result",
          "data": {
            "text/plain": [
              "[0, 1, 2, 3]"
            ]
          },
          "metadata": {
            "tags": []
          },
          "execution_count": 18
        }
      ]
    },
    {
      "cell_type": "markdown",
      "metadata": {
        "id": "-60ZHznOVSbf",
        "colab_type": "text"
      },
      "source": [
        "## **break e continue**"
      ]
    },
    {
      "cell_type": "code",
      "metadata": {
        "id": "hQxO-PixU-KC",
        "colab_type": "code",
        "colab": {
          "base_uri": "https://localhost:8080/",
          "height": 187
        },
        "outputId": "e34f6f17-cb87-473f-d83a-353531f119c2"
      },
      "source": [
        "for n in range(10):\n",
        "  for x in range(2,n):\n",
        "    if n % x == 0:\n",
        "      print(n, 'equals', x, '*', n//x)\n",
        "      break\n",
        "  else:\n",
        "    #loop feel through without finding a factor\n",
        "    print (n, 'is a prime number')"
      ],
      "execution_count": 20,
      "outputs": [
        {
          "output_type": "stream",
          "text": [
            "0 is a prime number\n",
            "1 is a prime number\n",
            "2 is a prime number\n",
            "3 is a prime number\n",
            "4 equals 2 * 2\n",
            "5 is a prime number\n",
            "6 equals 2 * 3\n",
            "7 is a prime number\n",
            "8 equals 2 * 4\n",
            "9 equals 3 * 3\n"
          ],
          "name": "stdout"
        }
      ]
    },
    {
      "cell_type": "code",
      "metadata": {
        "id": "MAvEaFMtoeDP",
        "colab_type": "code",
        "colab": {
          "base_uri": "https://localhost:8080/",
          "height": 187
        },
        "outputId": "48097281-b8f1-42e3-a767-94e4fbf931c2"
      },
      "source": [
        "for num in range (10):\n",
        "  if num % 2 == 0:\n",
        "    print('Numero par', num)\n",
        "    continue\n",
        "  print('Numero impar', num)"
      ],
      "execution_count": 23,
      "outputs": [
        {
          "output_type": "stream",
          "text": [
            "Numero par 0\n",
            "Numero impar 1\n",
            "Numero par 2\n",
            "Numero impar 3\n",
            "Numero par 4\n",
            "Numero impar 5\n",
            "Numero par 6\n",
            "Numero impar 7\n",
            "Numero par 8\n",
            "Numero impar 9\n"
          ],
          "name": "stdout"
        }
      ]
    },
    {
      "cell_type": "code",
      "metadata": {
        "id": "QwZ0VxgNor3a",
        "colab_type": "code",
        "colab": {}
      },
      "source": [
        ""
      ],
      "execution_count": 0,
      "outputs": []
    }
  ]
}