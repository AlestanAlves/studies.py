{
  "nbformat": 4,
  "nbformat_minor": 0,
  "metadata": {
    "colab": {
      "name": "controlflow.ipynb",
      "provenance": [],
      "include_colab_link": true
    },
    "kernelspec": {
      "name": "python3",
      "display_name": "Python 3"
    }
  },
  "cells": [
    {
      "cell_type": "markdown",
      "metadata": {
        "id": "view-in-github",
        "colab_type": "text"
      },
      "source": [
        "<a href=\"https://colab.research.google.com/github/AlestanAlves/studies.py/blob/master/controlflow.ipynb\" target=\"_parent\"><img src=\"https://colab.research.google.com/assets/colab-badge.svg\" alt=\"Open In Colab\"/></a>"
      ]
    },
    {
      "cell_type": "markdown",
      "metadata": {
        "id": "HQ4avUjipldz",
        "colab_type": "text"
      },
      "source": [
        "## [Docs control flow](https://docs.python.org/pt-br/3/tutorial/controlflow.html)"
      ]
    },
    {
      "cell_type": "markdown",
      "metadata": {
        "id": "HqGrlnqtVJ3V",
        "colab_type": "text"
      },
      "source": [
        "## **if**\n",
        "\n",
        "\n",
        "\n"
      ]
    },
    {
      "cell_type": "code",
      "metadata": {
        "id": "BSp0IzaPQ_RO",
        "colab_type": "code",
        "colab": {
          "base_uri": "https://localhost:8080/",
          "height": 51
        },
        "outputId": "50dc97ca-2776-443b-a13c-f6afe1eb2620"
      },
      "source": [
        "x = int(input('Coloque um número:'))\n",
        "\n",
        "if x < 0:\n",
        "  x = 0\n",
        "  print ('Negative changed to zero')\n",
        "elif x == 0:\n",
        "  print ('Zero')\n",
        "elif x ==1:\n",
        "  print ('Single')\n",
        "else:\n",
        "  print('More')\n"
      ],
      "execution_count": 1,
      "outputs": [
        {
          "output_type": "stream",
          "text": [
            "Coloque um número:10\n",
            "More\n"
          ],
          "name": "stdout"
        }
      ]
    },
    {
      "cell_type": "markdown",
      "metadata": {
        "id": "rzCbdC2XVCuG",
        "colab_type": "text"
      },
      "source": [
        "## **for**"
      ]
    },
    {
      "cell_type": "code",
      "metadata": {
        "id": "4Zlp8geRR8lC",
        "colab_type": "code",
        "colab": {
          "base_uri": "https://localhost:8080/",
          "height": 85
        },
        "outputId": "fb7357e1-d07d-4fe0-c51b-f3aa358bb978"
      },
      "source": [
        "#Measure some strings:\n",
        "words = ['cat', 'dog', 'croc', 'cow']\n",
        "for w in words:\n",
        "  print(w, len(w))"
      ],
      "execution_count": 2,
      "outputs": [
        {
          "output_type": "stream",
          "text": [
            "cat 3\n",
            "dog 3\n",
            "croc 4\n",
            "cow 3\n"
          ],
          "name": "stdout"
        }
      ]
    },
    {
      "cell_type": "code",
      "metadata": {
        "id": "1TFDBUbJS9LC",
        "colab_type": "code",
        "colab": {
          "base_uri": "https://localhost:8080/",
          "height": 102
        },
        "outputId": "e7bce7d0-c0d6-4dc6-be7a-d1179273c6a4"
      },
      "source": [
        "for i in range(10, 15): #começa com 10\n",
        "  print(i)"
      ],
      "execution_count": 10,
      "outputs": [
        {
          "output_type": "stream",
          "text": [
            "10\n",
            "11\n",
            "12\n",
            "13\n",
            "14\n"
          ],
          "name": "stdout"
        }
      ]
    },
    {
      "cell_type": "code",
      "metadata": {
        "id": "hy9f6G7rTmxx",
        "colab_type": "code",
        "colab": {
          "base_uri": "https://localhost:8080/",
          "height": 85
        },
        "outputId": "81f2ee8d-2052-4187-bce1-52561e5e4db7"
      },
      "source": [
        "for i in range(0,10,3):\n",
        "  print(i)"
      ],
      "execution_count": 12,
      "outputs": [
        {
          "output_type": "stream",
          "text": [
            "0\n",
            "3\n",
            "6\n",
            "9\n"
          ],
          "name": "stdout"
        }
      ]
    },
    {
      "cell_type": "code",
      "metadata": {
        "id": "1TFwUgjzT-aG",
        "colab_type": "code",
        "colab": {
          "base_uri": "https://localhost:8080/",
          "height": 102
        },
        "outputId": "8b7bd248-b661-465d-adc9-20d8492d0a30"
      },
      "source": [
        "a = ['Mary', 'had', 'a', 'little', 'lamb']\n",
        "for i in range(len(a)):\n",
        "  print(i, a[i])"
      ],
      "execution_count": 13,
      "outputs": [
        {
          "output_type": "stream",
          "text": [
            "0 Mary\n",
            "1 had\n",
            "2 a\n",
            "3 little\n",
            "4 lamb\n"
          ],
          "name": "stdout"
        }
      ]
    },
    {
      "cell_type": "code",
      "metadata": {
        "id": "2EpKORomUPAp",
        "colab_type": "code",
        "colab": {
          "base_uri": "https://localhost:8080/",
          "height": 34
        },
        "outputId": "58a2c92e-d08b-4545-91cb-22204c7fd8fb"
      },
      "source": [
        "print(range(10))"
      ],
      "execution_count": 14,
      "outputs": [
        {
          "output_type": "stream",
          "text": [
            "range(0, 10)\n"
          ],
          "name": "stdout"
        }
      ]
    },
    {
      "cell_type": "markdown",
      "metadata": {
        "id": "uOEGPKWvUqSp",
        "colab_type": "text"
      },
      "source": [
        "## Range não retorna uma lista"
      ]
    },
    {
      "cell_type": "code",
      "metadata": {
        "id": "8xEIyJ7JUZie",
        "colab_type": "code",
        "colab": {
          "base_uri": "https://localhost:8080/",
          "height": 34
        },
        "outputId": "7382f2fc-c311-4b58-f01e-ac347dea4541"
      },
      "source": [
        "sum(range(10)) #1 + 2 + 3 + 4 + 5 + 6 + 7 + 8 + 9 + 10"
      ],
      "execution_count": 17,
      "outputs": [
        {
          "output_type": "execute_result",
          "data": {
            "text/plain": [
              "45"
            ]
          },
          "metadata": {
            "tags": []
          },
          "execution_count": 17
        }
      ]
    },
    {
      "cell_type": "code",
      "metadata": {
        "id": "mF3kwplKU1Ln",
        "colab_type": "code",
        "colab": {
          "base_uri": "https://localhost:8080/",
          "height": 34
        },
        "outputId": "c7eca931-b8e5-4f2a-902b-8a5f3cf185f0"
      },
      "source": [
        "list(range(4))"
      ],
      "execution_count": 18,
      "outputs": [
        {
          "output_type": "execute_result",
          "data": {
            "text/plain": [
              "[0, 1, 2, 3]"
            ]
          },
          "metadata": {
            "tags": []
          },
          "execution_count": 18
        }
      ]
    },
    {
      "cell_type": "markdown",
      "metadata": {
        "id": "-60ZHznOVSbf",
        "colab_type": "text"
      },
      "source": [
        "## **break e continue**"
      ]
    },
    {
      "cell_type": "code",
      "metadata": {
        "id": "hQxO-PixU-KC",
        "colab_type": "code",
        "colab": {
          "base_uri": "https://localhost:8080/",
          "height": 187
        },
        "outputId": "e34f6f17-cb87-473f-d83a-353531f119c2"
      },
      "source": [
        "for n in range(10):\n",
        "  for x in range(2,n):\n",
        "    if n % x == 0:\n",
        "      print(n, 'equals', x, '*', n//x)\n",
        "      break\n",
        "  else:\n",
        "    #loop feel through without finding a factor\n",
        "    print (n, 'is a prime number')"
      ],
      "execution_count": 20,
      "outputs": [
        {
          "output_type": "stream",
          "text": [
            "0 is a prime number\n",
            "1 is a prime number\n",
            "2 is a prime number\n",
            "3 is a prime number\n",
            "4 equals 2 * 2\n",
            "5 is a prime number\n",
            "6 equals 2 * 3\n",
            "7 is a prime number\n",
            "8 equals 2 * 4\n",
            "9 equals 3 * 3\n"
          ],
          "name": "stdout"
        }
      ]
    },
    {
      "cell_type": "code",
      "metadata": {
        "id": "MAvEaFMtoeDP",
        "colab_type": "code",
        "colab": {
          "base_uri": "https://localhost:8080/",
          "height": 187
        },
        "outputId": "48097281-b8f1-42e3-a767-94e4fbf931c2"
      },
      "source": [
        "for num in range (10):\n",
        "  if num % 2 == 0:\n",
        "    print('Numero par', num)\n",
        "    continue\n",
        "  print('Numero impar', num)"
      ],
      "execution_count": 23,
      "outputs": [
        {
          "output_type": "stream",
          "text": [
            "Numero par 0\n",
            "Numero impar 1\n",
            "Numero par 2\n",
            "Numero impar 3\n",
            "Numero par 4\n",
            "Numero impar 5\n",
            "Numero par 6\n",
            "Numero impar 7\n",
            "Numero par 8\n",
            "Numero impar 9\n"
          ],
          "name": "stdout"
        }
      ]
    },
    {
      "cell_type": "markdown",
      "metadata": {
        "id": "WhB-AA3vscvG",
        "colab_type": "text"
      },
      "source": [
        "O comando **pass** não faz nada. Ela pode ser usada quando a sintaxe exige um comando mas a semântica do programa não requer nenhuma ação. Por exemplo:"
      ]
    },
    {
      "cell_type": "code",
      "metadata": {
        "id": "EEkawbFgtD3d",
        "colab_type": "code",
        "colab": {}
      },
      "source": [
        "while True:\n",
        "  pass"
      ],
      "execution_count": 0,
      "outputs": []
    },
    {
      "cell_type": "markdown",
      "metadata": {
        "id": "NuhpGjJvtT83",
        "colab_type": "text"
      },
      "source": [
        "Isto é usado muitas vezes para se definir **classes mínimas**:"
      ]
    },
    {
      "cell_type": "code",
      "metadata": {
        "id": "rjOsn9-_tIR9",
        "colab_type": "code",
        "colab": {}
      },
      "source": [
        "class MyEmptyClass:\n",
        "  pass"
      ],
      "execution_count": 0,
      "outputs": []
    },
    {
      "cell_type": "markdown",
      "metadata": {
        "id": "92x8epXRtZhb",
        "colab_type": "text"
      },
      "source": [
        "Outra ocasião em que o **pass** pode ser usado é como um substituto temporário para uma função ou bloco condicional, quando se está trabalhando com código novo, ainda indefinido, permitindo que mantenha-se o pensamento num nível mais abstrato. O pass é silenciosamente ignorado:"
      ]
    },
    {
      "cell_type": "code",
      "metadata": {
        "id": "bsMUfadxtcPg",
        "colab_type": "code",
        "colab": {}
      },
      "source": [
        "def initlog(*args):\n",
        "  pass   # Lembre-se de implementar isso"
      ],
      "execution_count": 0,
      "outputs": []
    },
    {
      "cell_type": "markdown",
      "metadata": {
        "id": "mLuWSHSCvTZa",
        "colab_type": "text"
      },
      "source": [
        "## Definindo funções"
      ]
    },
    {
      "cell_type": "markdown",
      "metadata": {
        "id": "sZz3U9QCvWbU",
        "colab_type": "text"
      },
      "source": [
        "Podemos criar uma função que escreve a série de Fibonacci até um limite arbitrário:"
      ]
    },
    {
      "cell_type": "code",
      "metadata": {
        "id": "sRY164yrvUri",
        "colab_type": "code",
        "colab": {
          "base_uri": "https://localhost:8080/",
          "height": 34
        },
        "outputId": "86877f23-a665-4220-faf7-49f149906342"
      },
      "source": [
        "def fib(n):\n",
        "  a, b = 0, 1\n",
        "  while a < n: #série de Fibonacci\n",
        "    print(a , end=' ')\n",
        "    a, b = b, a+b\n",
        "  print()\n",
        "fib(2000)"
      ],
      "execution_count": 28,
      "outputs": [
        {
          "output_type": "stream",
          "text": [
            "0 1 1 2 3 5 8 13 21 34 55 89 144 233 377 610 987 1597 \n"
          ],
          "name": "stdout"
        }
      ]
    },
    {
      "cell_type": "markdown",
      "metadata": {
        "id": "ZLGRCOCQ0fML",
        "colab_type": "text"
      },
      "source": [
        "A palavra reservada **def** inicia a **definição de uma função**. Ela deve ser seguida do nome da função e da lista de parâmetros formais entre parênteses. Os comandos que formam o corpo da função começam na linha seguinte e devem ser indentados.\n",
        "\n",
        "Opcionalmente, a primeira linha do corpo da função pode ser uma literal string, cujo propósito é documentar a função. Se presente, essa string chama-se docstring. (Há mais informação sobre docstrings na seção Strings de documentação.) Existem ferramentas que utilizam docstrings para produzir automaticamente documentação online ou para imprimir, ou ainda, permitir que o usuário navegue interativamente pelo código. É uma boa prática incluir sempre docstrings em suas funções, portanto, tente fazer disso um hábito.\n",
        "\n",
        "A execução de uma função cria uma nova tabela de símbolos para as variáveis locais da função. Mais precisamente, todas as atribuições de variáveis numa função são armazenadas na tabela de símbolos local; referências a variáveis são buscadas primeiro na tabela de símbolos local, em seguida na tabela de símbolos locais de funções delimitadoras ou circundantes, depois na tabela de símbolos global e, finalmente, na tabela de nomes da própria linguagem. Embora possam ser referenciadas, variáveis globais e de funções externas não podem ter atribuições (a menos que seja utilizado o comando global, para variáveis globais, ou nonlocal, para variáveis de funções externas).\n",
        "\n",
        "Os parâmetros reais (argumentos) de uma chamada de função são introduzidos na tabela de símbolos local da função no momento da chamada; portanto, argumentos são passados por valor (onde o valor é sempre uma referência para objeto, não o valor do objeto). [1] Quando uma função chama outra função, uma nova tabela de símbolos é criada para tal chamada.\n",
        "\n",
        "Uma definição de função introduz o nome da função na tabela de símbolos atual. O valor associado ao nome da função tem um tipo que é reconhecido pelo interpretador como uma função definida pelo usuário. Esse valor pode ser atribuído a outros nomes que também podem ser usados como funções. Esse mecanismo serve para renomear funções:\n"
      ]
    },
    {
      "cell_type": "code",
      "metadata": {
        "id": "ZN6cq66Y0f2I",
        "colab_type": "code",
        "colab": {
          "base_uri": "https://localhost:8080/",
          "height": 34
        },
        "outputId": "50a4d758-dcad-41eb-b393-79aeb33dfdcd"
      },
      "source": [
        "fib "
      ],
      "execution_count": 29,
      "outputs": [
        {
          "output_type": "execute_result",
          "data": {
            "text/plain": [
              "<function __main__.fib>"
            ]
          },
          "metadata": {
            "tags": []
          },
          "execution_count": 29
        }
      ]
    },
    {
      "cell_type": "code",
      "metadata": {
        "id": "Ccxettnm28Db",
        "colab_type": "code",
        "colab": {
          "base_uri": "https://localhost:8080/",
          "height": 34
        },
        "outputId": "27862b5b-1fd6-409a-d9ab-0050fc860392"
      },
      "source": [
        "f = fib\n",
        "f(100)"
      ],
      "execution_count": 30,
      "outputs": [
        {
          "output_type": "stream",
          "text": [
            "0 1 1 2 3 5 8 13 21 34 55 89 \n"
          ],
          "name": "stdout"
        }
      ]
    },
    {
      "cell_type": "markdown",
      "metadata": {
        "id": "cTSwzAtY3HKt",
        "colab_type": "text"
      },
      "source": [
        "Conhecendo outras linguagens, pode-se questionar que `fib` não é uma função, mas um procedimento, pois ela não devolve um valor. Na verdade, mesmo funções que não usam o comando `return `devolvem um valor, ainda que pouco interessante. Esse valor é chamado `None` (é um nome embutido). O interpretador interativo evita escrever `None` quando ele é o único resultado de uma expressão. Mas se quiser vê-lo pode usar o comando print:"
      ]
    },
    {
      "cell_type": "code",
      "metadata": {
        "id": "lrGxYOVn3WoJ",
        "colab_type": "code",
        "colab": {
          "base_uri": "https://localhost:8080/",
          "height": 68
        },
        "outputId": "e98f2c3d-c7da-4459-afd5-bed7efabec90"
      },
      "source": [
        "fib(0)\n",
        "print(fib(0))"
      ],
      "execution_count": 31,
      "outputs": [
        {
          "output_type": "stream",
          "text": [
            "\n",
            "\n",
            "None\n"
          ],
          "name": "stdout"
        }
      ]
    },
    {
      "cell_type": "markdown",
      "metadata": {
        "id": "8piPj7et3SJ4",
        "colab_type": "text"
      },
      "source": [
        "É fácil escrever uma função que devolve uma lista de números da série de Fibonacci, ao invés de exibi-los:"
      ]
    },
    {
      "cell_type": "code",
      "metadata": {
        "id": "cbUeSoJI2_jo",
        "colab_type": "code",
        "colab": {}
      },
      "source": [
        "def fib2(n):\n",
        "  result =[]\n",
        "  a, b = 0,1\n",
        "  while a < n :\n",
        "    result.append(a)\n",
        "    a, b = b, a+b\n",
        "  return result"
      ],
      "execution_count": 0,
      "outputs": []
    },
    {
      "cell_type": "code",
      "metadata": {
        "id": "YdDnagLm3xqq",
        "colab_type": "code",
        "colab": {
          "base_uri": "https://localhost:8080/",
          "height": 34
        },
        "outputId": "628e7f94-e710-4d66-f3df-e0e4f6375d43"
      },
      "source": [
        "f100 = fib2(100)\n",
        "f100"
      ],
      "execution_count": 34,
      "outputs": [
        {
          "output_type": "execute_result",
          "data": {
            "text/plain": [
              "[0, 1, 1, 2, 3, 5, 8, 13, 21, 34, 55, 89]"
            ]
          },
          "metadata": {
            "tags": []
          },
          "execution_count": 34
        }
      ]
    },
    {
      "cell_type": "markdown",
      "metadata": {
        "id": "3vJ2J4GC36ux",
        "colab_type": "text"
      },
      "source": [
        "A instrução `return` finaliza a execução e retorna um valor da função. `return` sem qualquer expressão como argumento retorna `None`. Atingir o final da função também retorna `None`."
      ]
    },
    {
      "cell_type": "markdown",
      "metadata": {
        "id": "-9BKsadQ4LxY",
        "colab_type": "text"
      },
      "source": [
        "A instrução `result.append(a)` chama um método do objeto lista `result`. Um método é uma função que ‘pertence’ a um objeto, e é chamada `obj.nomemetodo`, onde obj é um objeto qualquer (pode ser uma expressão), e nomemetodo é o nome de um método que foi definido pelo tipo do objeto. Tipos diferentes definem métodos diferentes. Métodos de diferentes tipos podem ter o mesmo nome sem ambiguidade. (É possível definir seus próprios tipos de objetos e métodos, utilizando classes, veja em Classes) O método `append()`, mostrado no exemplo é definido para objetos do tipo lista; adiciona um novo elemento ao final da lista. Neste exemplo, ele equivale a `result = result + [a]`, só que mais eficiente."
      ]
    },
    {
      "cell_type": "markdown",
      "metadata": {
        "id": "4kPwdKDo5mf2",
        "colab_type": "text"
      },
      "source": [
        "## **Argumentos com valor padrão**\n",
        "A mais útil das três é especificar um valor padrão para um ou mais argumentos. Isso cria uma função que pode ser invocada com menos argumentos do que os que foram definidos. Por exemplo:"
      ]
    },
    {
      "cell_type": "code",
      "metadata": {
        "id": "LIpLhuPG5rzf",
        "colab_type": "code",
        "colab": {}
      },
      "source": [
        "def ask_ok(prompt, retries=4, reminder='Por favor tente outra vez'):\n",
        "  while True:\n",
        "    ok = input(prompt)\n",
        "    if ok in ('y', 'ye', 'yes'):\n",
        "      return True\n",
        "    if ok in ('n', 'no', 'nop', 'nope'):\n",
        "      return False\n",
        "    retries = retries - 1\n",
        "    if retries < 0:\n",
        "      raise ValueError('invalid user response')\n",
        "    print(reminder)"
      ],
      "execution_count": 0,
      "outputs": []
    },
    {
      "cell_type": "markdown",
      "metadata": {
        "id": "y-JrUPX6-lhV",
        "colab_type": "text"
      },
      "source": [
        "Essa função pode ser chamada de várias formas:\n",
        "\n",
        "fornecendo apenas o argumento obrigatório:` ask_ok('Do you really want to quit?')`\n",
        "\n",
        "fornecendo um dos argumentos opcionais:` ask_ok('OK to overwrite the file?', 2)`\n",
        "\n",
        "ou fornecendo todos os argumentos: `ask_ok('OK to overwrite the file?', 2, 'Come on, only yes or no!')`"
      ]
    },
    {
      "cell_type": "code",
      "metadata": {
        "id": "Zt4n0GXu-lWR",
        "colab_type": "code",
        "colab": {
          "base_uri": "https://localhost:8080/",
          "height": 34
        },
        "outputId": "5b35a03f-08a3-467a-f7b5-17124f36f771"
      },
      "source": [
        "i = 5\n",
        "\n",
        "def f(arg=i):\n",
        "  print(arg)\n",
        "\n",
        "i = 6\n",
        "f()"
      ],
      "execution_count": 42,
      "outputs": [
        {
          "output_type": "stream",
          "text": [
            "5\n"
          ],
          "name": "stdout"
        }
      ]
    },
    {
      "cell_type": "markdown",
      "metadata": {
        "id": "45jrmI3WAeq4",
        "colab_type": "text"
      },
      "source": [
        "**Aviso importante:** Valores padrões são avaliados apenas uma vez. Isso faz diferença quando o valor é um objeto mutável, como uma lista, dicionário, ou instâncias de classes. Por exemplo, a função a seguir acumula os argumentos passados, nas chamadas subsequentes:"
      ]
    },
    {
      "cell_type": "code",
      "metadata": {
        "id": "u67wt47EAZNc",
        "colab_type": "code",
        "colab": {
          "base_uri": "https://localhost:8080/",
          "height": 68
        },
        "outputId": "a0f69f18-4247-434b-9baa-786cf59a0a37"
      },
      "source": [
        "def f(a, L=[]):\n",
        "  L.append(a)\n",
        "  return L\n",
        "\n",
        "print(f(1))\n",
        "print(f(2))\n",
        "print(f(3))"
      ],
      "execution_count": 43,
      "outputs": [
        {
          "output_type": "stream",
          "text": [
            "[1]\n",
            "[1, 2]\n",
            "[1, 2, 3]\n"
          ],
          "name": "stdout"
        }
      ]
    },
    {
      "cell_type": "markdown",
      "metadata": {
        "id": "R6znOl_6Avkp",
        "colab_type": "text"
      },
      "source": [
        "Se não quiser que o valor padrão seja compartilhado entre chamadas subsequentes, pode reescrever a função assim:"
      ]
    },
    {
      "cell_type": "code",
      "metadata": {
        "id": "KBHy9gkQAxbh",
        "colab_type": "code",
        "colab": {}
      },
      "source": [
        "def f(a, L=None):\n",
        "    if L is None:\n",
        "        L = []\n",
        "    L.append(a)\n",
        "    return L"
      ],
      "execution_count": 0,
      "outputs": []
    },
    {
      "cell_type": "markdown",
      "metadata": {
        "id": "GzzODeNaA6Bx",
        "colab_type": "text"
      },
      "source": [
        "## Argumentos nomeados"
      ]
    },
    {
      "cell_type": "markdown",
      "metadata": {
        "id": "2A-lqTo4A8qk",
        "colab_type": "text"
      },
      "source": [
        "Funções também podem ser chamadas usando argumentos nomeados da forma chave=valor. Por exemplo, a função a seguir:"
      ]
    },
    {
      "cell_type": "code",
      "metadata": {
        "id": "zKJtiMgnA60O",
        "colab_type": "code",
        "colab": {}
      },
      "source": [
        "def alestan(state='solteiro', action='dar erro', type='humano'):\n",
        "  print('Essa é minha ação', action, end='')\n",
        "  print('Esse é meu estado', state)\n",
        "  print('Meu tipo', type)"
      ],
      "execution_count": 0,
      "outputs": []
    },
    {
      "cell_type": "markdown",
      "metadata": {
        "id": "0g1lJH2bB_Pu",
        "colab_type": "text"
      },
      "source": [
        "aceita um argumento obrigatório (`voltage`) e três argumentos opcionais `(state, action, e type)`. Esta função pode ser chamada de qualquer uma dessas formas:"
      ]
    },
    {
      "cell_type": "code",
      "metadata": {
        "id": "AzYLarN6Bzrj",
        "colab_type": "code",
        "colab": {
          "base_uri": "https://localhost:8080/",
          "height": 221
        },
        "outputId": "a97c5e15-5d00-467d-e77f-bb66bf17baa0"
      },
      "source": [
        "alestan(1000)                                        \n",
        "alestan(state='casado')                                \n",
        "alestan(action='VOOOOOM')             \n",
        "alestan(type='ET')            \n",
        "alestan('a million', 'bereft of life', 'jump')         \n",
        "alestan('a thousand', 'pushing up the daisies')  "
      ],
      "execution_count": 56,
      "outputs": [
        {
          "output_type": "stream",
          "text": [
            "Essa é minha ação dar erroEsse é meu estado 1000\n",
            "Meu tipo humano\n",
            "Essa é minha ação dar erroEsse é meu estado casado\n",
            "Meu tipo humano\n",
            "Essa é minha ação VOOOOOMEsse é meu estado solteiro\n",
            "Meu tipo humano\n",
            "Essa é minha ação dar erroEsse é meu estado solteiro\n",
            "Meu tipo ET\n",
            "Essa é minha ação bereft of lifeEsse é meu estado a million\n",
            "Meu tipo jump\n",
            "Essa é minha ação pushing up the daisiesEsse é meu estado a thousand\n",
            "Meu tipo humano\n"
          ],
          "name": "stdout"
        }
      ]
    },
    {
      "cell_type": "markdown",
      "metadata": {
        "id": "C8K_x5IwGD1L",
        "colab_type": "text"
      },
      "source": [
        "Quando um último parâmetro formal no formato `**nome` está presente, ele recebe um dicionário (veja Mapping Types — dict) contendo todos os argumentos nomeados, exceto aqueles que correspondem a um parâmetro formal. Isto pode ser combinado com um parâmetro formal no formato *nome (descrito na próxima subseção) que recebe uma tupla contendo os argumentos posicionais, além da lista de parâmetros formais. (*nome deve ocorrer antes de **nome.) Por exemplo, se definirmos uma função assim:"
      ]
    },
    {
      "cell_type": "code",
      "metadata": {
        "id": "CULaL4lfFlmU",
        "colab_type": "code",
        "colab": {}
      },
      "source": [
        "def cheeseshop(kind, *arguments, **keywords):\n",
        "    print(\"-- Do you have any\", kind, \"?\")\n",
        "    print(\"-- I'm sorry, we're all out of\", kind)\n",
        "    for arg in arguments:\n",
        "        print(arg)\n",
        "    print(\"-\" * 40)\n",
        "    for kw in keywords:\n",
        "        print(kw, \":\", keywords[kw]) "
      ],
      "execution_count": 0,
      "outputs": []
    },
    {
      "cell_type": "code",
      "metadata": {
        "id": "k4At53yiG7x5",
        "colab_type": "code",
        "colab": {
          "base_uri": "https://localhost:8080/",
          "height": 153
        },
        "outputId": "b52e53e6-5a63-42af-f639-8ba973c2a4db"
      },
      "source": [
        "cheeseshop(\"Limburger\", \"It's very runny, sir.\",\n",
        "           \"It's really very, VERY runny, sir.\",\n",
        "           shopkeeper=\"Michael Palin\",\n",
        "           client=\"John Cleese\",\n",
        "           sketch=\"Cheese Shop Sketch\")"
      ],
      "execution_count": 63,
      "outputs": [
        {
          "output_type": "stream",
          "text": [
            "-- Do you have any Limburger ?\n",
            "-- I'm sorry, we're all out of Limburger\n",
            "It's very runny, sir.\n",
            "It's really very, VERY runny, sir.\n",
            "----------------------------------------\n",
            "shopkeeper : Michael Palin\n",
            "client : John Cleese\n",
            "sketch : Cheese Shop Sketch\n"
          ],
          "name": "stdout"
        }
      ]
    },
    {
      "cell_type": "markdown",
      "metadata": {
        "id": "GxDXSMxJOLRi",
        "colab_type": "text"
      },
      "source": [
        "## Parâmetros especiais"
      ]
    },
    {
      "cell_type": "markdown",
      "metadata": {
        "id": "givsRCrBON3i",
        "colab_type": "text"
      },
      "source": [
        "Por padrão, argumentos podem ser passadas para uma função Python tanto por posição quanto explicitamento pelo nome. Para uma melhor legibilidade e desempenho, faz sentido restringir a maneira pelo qual argumentos possam ser passados, assim um desenvolvedor precisa apenas olhar para a definição da função para determinar se os itens são passados por posição, por posição e nome, ou por nome.\n",
        "\n",
        "A definição de uma função pode parecer com:"
      ]
    },
    {
      "cell_type": "markdown",
      "metadata": {
        "id": "muQ8mbRlOa2I",
        "colab_type": "text"
      },
      "source": [
        "\n",
        "def f(pos1, pos2, /, pos_or_kwd, *, kwd1, kwd2):\n",
        "\n",
        "      -----------    ----------     ----------\n",
        "        |             |                  |\n",
        "        |        Positional or keyword   |\n",
        "        |                                - Keyword only\n",
        "         -- Positional only\n"
      ]
    },
    {
      "cell_type": "markdown",
      "metadata": {
        "id": "tsNelvleP6st",
        "colab_type": "text"
      },
      "source": [
        "onde / e `*` são opcionais. Se usados, esses símbolos indicam o tipo de parâmetro pelo qual os argumentos podem ser passados para as funções: somente-posicional, posicional-ou-nomeado, e somente-nomeado. Parâmetros nomeados são também conhecidos como parâmetros palavra-chave."
      ]
    },
    {
      "cell_type": "code",
      "metadata": {
        "id": "OloMqi-8P7Q6",
        "colab_type": "code",
        "colab": {}
      },
      "source": [
        ""
      ],
      "execution_count": 0,
      "outputs": []
    }
  ]
}