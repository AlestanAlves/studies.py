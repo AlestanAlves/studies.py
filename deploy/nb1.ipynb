{
 "cells": [
  {
   "cell_type": "markdown",
   "metadata": {},
   "source": [
    "# Como Colocar um Modelo de Machine Learning em Produção com Flask\n",
    "## Começa 20:05\n",
    "\n",
    "## Quer aprender a habilidade mais importante para trabalhar com Data Science? Acesse CursoDeDataScience.com"
   ]
  },
  {
   "cell_type": "markdown",
   "metadata": {},
   "source": [
    "# DESAFIO: Mestres do Scikit-learn!"
   ]
  },
  {
   "cell_type": "code",
   "execution_count": 2,
   "metadata": {},
   "outputs": [],
   "source": [
    "import flask"
   ]
  },
  {
   "cell_type": "code",
   "execution_count": 3,
   "metadata": {},
   "outputs": [],
   "source": [
    "import pandas as pd\n",
    "import numpy as np\n",
    "%matplotlib inline"
   ]
  },
  {
   "cell_type": "code",
   "execution_count": 4,
   "metadata": {},
   "outputs": [],
   "source": [
    "p = pd.read_csv(\"clickbait_titles.csv\", index_col=0, parse_dates=['timestamp'])\n",
    "n = pd.read_csv(\"non_clickbait_titles.csv\", index_col=0,parse_dates=['timestamp'])\n",
    "p['y'] = 1\n",
    "n['y'] = 0\n",
    "\n",
    "data = pd.concat([p,n], axis=0, ignore_index=True).sort_values(\"timestamp\")"
   ]
  },
  {
   "cell_type": "code",
   "execution_count": 5,
   "metadata": {},
   "outputs": [
    {
     "data": {
      "text/html": [
       "<div>\n",
       "<style scoped>\n",
       "    .dataframe tbody tr th:only-of-type {\n",
       "        vertical-align: middle;\n",
       "    }\n",
       "\n",
       "    .dataframe tbody tr th {\n",
       "        vertical-align: top;\n",
       "    }\n",
       "\n",
       "    .dataframe thead th {\n",
       "        text-align: right;\n",
       "    }\n",
       "</style>\n",
       "<table border=\"1\" class=\"dataframe\">\n",
       "  <thead>\n",
       "    <tr style=\"text-align: right;\">\n",
       "      <th></th>\n",
       "      <th>timestamp</th>\n",
       "      <th>title</th>\n",
       "      <th>url</th>\n",
       "      <th>y</th>\n",
       "    </tr>\n",
       "  </thead>\n",
       "  <tbody>\n",
       "    <tr>\n",
       "      <th>801</th>\n",
       "      <td>2013-08-29 14:48:00</td>\n",
       "      <td>24 Coisas Que As Pessoas Solteiras Estão Cansa...</td>\n",
       "      <td>https://www.buzzfeed.com/ashleyperez/24-coisas...</td>\n",
       "      <td>1</td>\n",
       "    </tr>\n",
       "    <tr>\n",
       "      <th>800</th>\n",
       "      <td>2013-08-30 15:10:58</td>\n",
       "      <td>27 Decisões Do Dia-a-dia Que Pessoas De Vinte-...</td>\n",
       "      <td>https://www.buzzfeed.com/regajha/27-decisoes-d...</td>\n",
       "      <td>1</td>\n",
       "    </tr>\n",
       "    <tr>\n",
       "      <th>799</th>\n",
       "      <td>2013-09-04 12:07:03</td>\n",
       "      <td>21 Fotos Provando Que Os Irmãos Mais Velhos Tê...</td>\n",
       "      <td>https://www.buzzfeed.com/moerder/21-fotos-prov...</td>\n",
       "      <td>1</td>\n",
       "    </tr>\n",
       "    <tr>\n",
       "      <th>798</th>\n",
       "      <td>2013-09-04 16:06:57</td>\n",
       "      <td>30 Sinais De Que Você Tem Quase 30</td>\n",
       "      <td>https://www.buzzfeed.com/jessicamisener/30-sin...</td>\n",
       "      <td>1</td>\n",
       "    </tr>\n",
       "    <tr>\n",
       "      <th>1306</th>\n",
       "      <td>2013-10-18 03:29:53</td>\n",
       "      <td>38 Sinais Que Você é Um Basset Hound</td>\n",
       "      <td>https://www.buzzfeed.com/chelseamarshall/38-si...</td>\n",
       "      <td>1</td>\n",
       "    </tr>\n",
       "  </tbody>\n",
       "</table>\n",
       "</div>"
      ],
      "text/plain": [
       "               timestamp                                              title  \\\n",
       "801  2013-08-29 14:48:00  24 Coisas Que As Pessoas Solteiras Estão Cansa...   \n",
       "800  2013-08-30 15:10:58  27 Decisões Do Dia-a-dia Que Pessoas De Vinte-...   \n",
       "799  2013-09-04 12:07:03  21 Fotos Provando Que Os Irmãos Mais Velhos Tê...   \n",
       "798  2013-09-04 16:06:57                 30 Sinais De Que Você Tem Quase 30   \n",
       "1306 2013-10-18 03:29:53               38 Sinais Que Você é Um Basset Hound   \n",
       "\n",
       "                                                    url  y  \n",
       "801   https://www.buzzfeed.com/ashleyperez/24-coisas...  1  \n",
       "800   https://www.buzzfeed.com/regajha/27-decisoes-d...  1  \n",
       "799   https://www.buzzfeed.com/moerder/21-fotos-prov...  1  \n",
       "798   https://www.buzzfeed.com/jessicamisener/30-sin...  1  \n",
       "1306  https://www.buzzfeed.com/chelseamarshall/38-si...  1  "
      ]
     },
     "execution_count": 5,
     "metadata": {},
     "output_type": "execute_result"
    }
   ],
   "source": [
    "data.head()"
   ]
  },
  {
   "cell_type": "code",
   "execution_count": 6,
   "metadata": {},
   "outputs": [
    {
     "data": {
      "text/plain": [
       "<matplotlib.axes._subplots.AxesSubplot at 0x7f11bbd9c908>"
      ]
     },
     "execution_count": 6,
     "metadata": {},
     "output_type": "execute_result"
    },
    {
     "data": {
      "image/png": "[encoded data removed]",
      "text/plain": [
       "<Figure size 720x360 with 1 Axes>"
      ]
     },
     "metadata": {},
     "output_type": "display_data"
    }
   ],
   "source": [
    "data.groupby(data['timestamp'].dt.date)['y'].mean().plot(figsize=(10,5))"
   ]
  },
  {
   "cell_type": "code",
   "execution_count": 7,
   "metadata": {},
   "outputs": [],
   "source": [
    "data = data[data['timestamp'] >= \"2017-06-01\"]"
   ]
  },
  {
   "cell_type": "code",
   "execution_count": 8,
   "metadata": {},
   "outputs": [
    {
     "data": {
      "text/plain": [
       "<matplotlib.axes._subplots.AxesSubplot at 0x7f11b9ce4320>"
      ]
     },
     "execution_count": 8,
     "metadata": {},
     "output_type": "execute_result"
    },
    {
     "data": {
      "image/png": "[encoded data removed]",
      "text/plain": [
       "<Figure size 720x360 with 1 Axes>"
      ]
     },
     "metadata": {},
     "output_type": "display_data"
    }
   ],
   "source": [
    "data.groupby(data['timestamp'].dt.date)['y'].mean().plot(figsize=(10,5))"
   ]
  },
  {
   "cell_type": "code",
   "execution_count": 9,
   "metadata": {},
   "outputs": [
    {
     "data": {
      "text/html": [
       "<div>\n",
       "<style scoped>\n",
       "    .dataframe tbody tr th:only-of-type {\n",
       "        vertical-align: middle;\n",
       "    }\n",
       "\n",
       "    .dataframe tbody tr th {\n",
       "        vertical-align: top;\n",
       "    }\n",
       "\n",
       "    .dataframe thead th {\n",
       "        text-align: right;\n",
       "    }\n",
       "</style>\n",
       "<table border=\"1\" class=\"dataframe\">\n",
       "  <thead>\n",
       "    <tr style=\"text-align: right;\">\n",
       "      <th></th>\n",
       "      <th>timestamp</th>\n",
       "      <th>title</th>\n",
       "      <th>url</th>\n",
       "      <th>y</th>\n",
       "    </tr>\n",
       "  </thead>\n",
       "  <tbody>\n",
       "    <tr>\n",
       "      <th>2222</th>\n",
       "      <td>2017-06-01 14:13:41</td>\n",
       "      <td>Peça-chave na Lava Jato, Funaro negocia delaçã...</td>\n",
       "      <td>https://www.buzzfeed.com/filipecoutinho/peca-c...</td>\n",
       "      <td>0</td>\n",
       "    </tr>\n",
       "    <tr>\n",
       "      <th>2221</th>\n",
       "      <td>2017-06-01 14:38:39</td>\n",
       "      <td>Após palestra-culto, o pastor-procurador de MS...</td>\n",
       "      <td>https://www.buzzfeed.com/tatianafarah/o-procur...</td>\n",
       "      <td>0</td>\n",
       "    </tr>\n",
       "    <tr>\n",
       "      <th>2220</th>\n",
       "      <td>2017-06-01 15:02:00</td>\n",
       "      <td>Polícia Federal vai chamar Haddad para depor s...</td>\n",
       "      <td>https://www.buzzfeed.com/alexandrearagao/opera...</td>\n",
       "      <td>0</td>\n",
       "    </tr>\n",
       "    <tr>\n",
       "      <th>2219</th>\n",
       "      <td>2017-06-01 19:16:59</td>\n",
       "      <td>Defesa de Dilma diz que chapa é única e que Te...</td>\n",
       "      <td>https://www.buzzfeed.com/tatianafarah/defesa-d...</td>\n",
       "      <td>0</td>\n",
       "    </tr>\n",
       "    <tr>\n",
       "      <th>2218</th>\n",
       "      <td>2017-06-01 22:04:20</td>\n",
       "      <td>Esses dois amigos do Rio tiraram uma selfie du...</td>\n",
       "      <td>https://www.buzzfeed.com/alexandrearagao/tirot...</td>\n",
       "      <td>0</td>\n",
       "    </tr>\n",
       "  </tbody>\n",
       "</table>\n",
       "</div>"
      ],
      "text/plain": [
       "               timestamp                                              title  \\\n",
       "2222 2017-06-01 14:13:41  Peça-chave na Lava Jato, Funaro negocia delaçã...   \n",
       "2221 2017-06-01 14:38:39  Após palestra-culto, o pastor-procurador de MS...   \n",
       "2220 2017-06-01 15:02:00  Polícia Federal vai chamar Haddad para depor s...   \n",
       "2219 2017-06-01 19:16:59  Defesa de Dilma diz que chapa é única e que Te...   \n",
       "2218 2017-06-01 22:04:20  Esses dois amigos do Rio tiraram uma selfie du...   \n",
       "\n",
       "                                                    url  y  \n",
       "2222  https://www.buzzfeed.com/filipecoutinho/peca-c...  0  \n",
       "2221  https://www.buzzfeed.com/tatianafarah/o-procur...  0  \n",
       "2220  https://www.buzzfeed.com/alexandrearagao/opera...  0  \n",
       "2219  https://www.buzzfeed.com/tatianafarah/defesa-d...  0  \n",
       "2218  https://www.buzzfeed.com/alexandrearagao/tirot...  0  "
      ]
     },
     "execution_count": 9,
     "metadata": {},
     "output_type": "execute_result"
    }
   ],
   "source": [
    "data.head()"
   ]
  },
  {
   "cell_type": "code",
   "execution_count": 10,
   "metadata": {},
   "outputs": [
    {
     "data": {
      "text/plain": [
       "2222    peça chave na lava jato  funaro negocia delaçã...\n",
       "2221    após palestra culto  o pastor procurador de ms...\n",
       "2220    polícia federal vai chamar haddad para depor s...\n",
       "2219    defesa de dilma diz que chapa é única e que te...\n",
       "2218    esses dois amigos do rio tiraram uma selfie du...\n",
       "Name: title_proc, dtype: object"
      ]
     },
     "execution_count": 10,
     "metadata": {},
     "output_type": "execute_result"
    }
   ],
   "source": [
    "data['title_proc'] = data['title'].str.lower().str.replace(r'[^\\w\\s]+', ' ')\n",
    "data['title_proc'].head()"
   ]
  },
  {
   "cell_type": "code",
   "execution_count": 11,
   "metadata": {},
   "outputs": [
    {
     "data": {
      "text/plain": [
       "(1031, 5)"
      ]
     },
     "execution_count": 11,
     "metadata": {},
     "output_type": "execute_result"
    }
   ],
   "source": [
    "data.shape"
   ]
  },
  {
   "cell_type": "code",
   "execution_count": 12,
   "metadata": {},
   "outputs": [],
   "source": [
    "from sklearn.feature_extraction.text import TfidfVectorizer\n",
    "from sklearn.ensemble import RandomForestClassifier\n",
    "from sklearn.pipeline import make_pipeline\n",
    "from sklearn.linear_model import LogisticRegression\n",
    "from sklearn.metrics import log_loss"
   ]
  },
  {
   "cell_type": "code",
   "execution_count": 13,
   "metadata": {},
   "outputs": [],
   "source": [
    "Xtrain, ytrain = data['title_proc'].iloc[:data.shape[0] // 2], data['y'].iloc[:data.shape[0] // 2]\n",
    "Xtest, ytest = data['title_proc'].iloc[data.shape[0] // 2:], data['y'].iloc[data.shape[0] // 2:]"
   ]
  },
  {
   "cell_type": "code",
   "execution_count": 14,
   "metadata": {},
   "outputs": [
    {
     "data": {
      "text/plain": [
       "0.07766990291262135"
      ]
     },
     "execution_count": 14,
     "metadata": {},
     "output_type": "execute_result"
    }
   ],
   "source": [
    "ytrain.mean()"
   ]
  },
  {
   "cell_type": "code",
   "execution_count": 15,
   "metadata": {},
   "outputs": [
    {
     "data": {
      "text/plain": [
       "0.44050839748966253"
      ]
     },
     "execution_count": 15,
     "metadata": {},
     "output_type": "execute_result"
    }
   ],
   "source": [
    "base = np.ones(Xtest.shape[0]) * ytrain.mean()\n",
    "log_loss(ytest, base)"
   ]
  },
  {
   "cell_type": "code",
   "execution_count": 18,
   "metadata": {},
   "outputs": [],
   "source": [
    "#novo remédio para combater a calvice\n",
    "#novo, remédio, para, combater, a, calvice,  novo remedio, remedio para, para combater, combater a, a calvice "
   ]
  },
  {
   "cell_type": "code",
   "execution_count": 19,
   "metadata": {},
   "outputs": [
    {
     "data": {
      "text/plain": [
       "0.24958750065851476"
      ]
     },
     "execution_count": 19,
     "metadata": {},
     "output_type": "execute_result"
    }
   ],
   "source": [
    "mdl = make_pipeline(TfidfVectorizer(min_df=1, ngram_range=(1,1)), \n",
    "                    RandomForestClassifier(n_estimators=1000, n_jobs=6, random_state=0))\n",
    "mdl.fit(Xtrain, ytrain)\n",
    "p = mdl.predict_proba(Xtest)[:,1]\n",
    "log_loss(ytest, p)"
   ]
  },
  {
   "cell_type": "code",
   "execution_count": 20,
   "metadata": {},
   "outputs": [
    {
     "data": {
      "text/plain": [
       "2200"
      ]
     },
     "execution_count": 20,
     "metadata": {},
     "output_type": "execute_result"
    }
   ],
   "source": [
    "len(mdl.named_steps.tfidfvectorizer.vocabulary_)"
   ]
  },
  {
   "cell_type": "code",
   "execution_count": 21,
   "metadata": {},
   "outputs": [
    {
     "data": {
      "text/plain": [
       "0.23797054770590273"
      ]
     },
     "execution_count": 21,
     "metadata": {},
     "output_type": "execute_result"
    }
   ],
   "source": [
    "mdl = make_pipeline(TfidfVectorizer(min_df=2, ngram_range=(1,1)), LogisticRegression(C=20.))\n",
    "mdl.fit(Xtrain, ytrain)\n",
    "p = mdl.predict_proba(Xtest)[:,1]\n",
    "log_loss(ytest, p)"
   ]
  },
  {
   "cell_type": "code",
   "execution_count": 22,
   "metadata": {},
   "outputs": [
    {
     "data": {
      "text/plain": [
       "Pipeline(memory=None,\n",
       "         steps=[('tfidfvectorizer',\n",
       "                 TfidfVectorizer(analyzer='word', binary=False,\n",
       "                                 decode_error='strict',\n",
       "                                 dtype=<class 'numpy.float64'>,\n",
       "                                 encoding='utf-8', input='content',\n",
       "                                 lowercase=True, max_df=1.0, max_features=None,\n",
       "                                 min_df=2, ngram_range=(1, 1), norm='l2',\n",
       "                                 preprocessor=None, smooth_idf=True,\n",
       "                                 stop_words=None, strip_accents=None,\n",
       "                                 sublinear_tf=False,\n",
       "                                 token_pattern='(?u)\\\\b\\\\w\\\\w+\\\\b',\n",
       "                                 tokenizer=None, use_idf=True,\n",
       "                                 vocabulary=None)),\n",
       "                ('logisticregression',\n",
       "                 LogisticRegression(C=20.0, class_weight=None, dual=False,\n",
       "                                    fit_intercept=True, intercept_scaling=1,\n",
       "                                    l1_ratio=None, max_iter=100,\n",
       "                                    multi_class='auto', n_jobs=None,\n",
       "                                    penalty='l2', random_state=None,\n",
       "                                    solver='lbfgs', tol=0.0001, verbose=0,\n",
       "                                    warm_start=False))],\n",
       "         verbose=False)"
      ]
     },
     "execution_count": 22,
     "metadata": {},
     "output_type": "execute_result"
    }
   ],
   "source": [
    "mdl = make_pipeline(TfidfVectorizer(min_df=2, ngram_range=(1,1)), LogisticRegression(C=20.))\n",
    "mdl.fit(data['title_proc'], data['y'])"
   ]
  },
  {
   "cell_type": "code",
   "execution_count": 82,
   "metadata": {},
   "outputs": [
    {
     "data": {
      "text/plain": [
       "['mdl.pkl.z']"
      ]
     },
     "execution_count": 82,
     "metadata": {},
     "output_type": "execute_result"
    }
   ],
   "source": [
    "import joblib as jb\n",
    "jb.dump(mdl, \"mdl.pkl.z\")"
   ]
  },
  {
   "cell_type": "markdown",
   "metadata": {},
   "source": [
    "# API Requests"
   ]
  },
  {
   "cell_type": "code",
   "execution_count": 134,
   "metadata": {},
   "outputs": [],
   "source": [
    "import requests as r\n",
    "import urllib.parse"
   ]
  },
  {
   "cell_type": "code",
   "execution_count": 164,
   "metadata": {},
   "outputs": [],
   "source": [
    "#encoded = urllib.parse.quote(\"10 coisas fofas e baratinhas para alegrar a vida\")\n",
    "#encoded = urllib.parse.quote(\"Você não vai acreditar no segredo devastador que o filho de Leonardo, Zé Felipe, possui em sua vida\")\n",
    "#encoded = urllib.parse.quote(\"Homem é preso por descobrir segredo que ensina a falar inglês fluente em uma hora\")\n",
    "#encoded = urllib.parse.quote(\"pare de fumar em 5 dias\")\n",
    "#encoded = urllib.parse.quote(\"Aprenda machine learning em apenas 10 dias sem precisar estudar nada\")\n",
    "encoded =  urllib.parse.quote(\"Banco central anuncia queda na taxa de juros\")"
   ]
  },
  {
   "cell_type": "markdown",
   "metadata": {},
   "source": [
    "Google Optimize, Multi Armed Bandits"
   ]
  },
  {
   "cell_type": "code",
   "execution_count": 166,
   "metadata": {},
   "outputs": [
    {
     "data": {
      "text/plain": [
       "'Banco%20central%20anuncia%20queda%20na%20taxa%20de%20juros'"
      ]
     },
     "execution_count": 166,
     "metadata": {},
     "output_type": "execute_result"
    }
   ],
   "source": [
    "encoded"
   ]
  },
  {
   "cell_type": "code",
   "execution_count": 167,
   "metadata": {},
   "outputs": [
    {
     "data": {
      "text/plain": [
       "'{\"titulo\": \"Banco central anuncia queda na taxa de juros\", \"p\": 0.007999256122400645}'"
      ]
     },
     "execution_count": 167,
     "metadata": {},
     "output_type": "execute_result"
    }
   ],
   "source": [
    "res = r.get(\"http://localhost:8000/?titulo={}\".format(encoded))\n",
    "res.text"
   ]
  },
  {
   "cell_type": "code",
   "execution_count": null,
   "metadata": {},
   "outputs": [],
   "source": [
    "@mariofilhoml"
   ]
  },
  {
   "cell_type": "code",
   "execution_count": 168,
   "metadata": {},
   "outputs": [
    {
     "data": {
      "text/plain": [
       "{'titulo': 'Banco central anuncia queda na taxa de juros',\n",
       " 'p': 0.007999256122400645}"
      ]
     },
     "execution_count": 168,
     "metadata": {},
     "output_type": "execute_result"
    }
   ],
   "source": [
    "import json\n",
    "json.loads(res.text)"
   ]
  },
  {
   "cell_type": "code",
   "execution_count": null,
   "metadata": {},
   "outputs": [],
   "source": []
  }
 ],
 "metadata": {
  "kernelspec": {
   "display_name": "Python 3",
   "language": "python",
   "name": "python3"
  },
  "language_info": {
   "codemirror_mode": {
    "name": "ipython",
    "version": 3
   },
   "file_extension": ".py",
   "mimetype": "text/x-python",
   "name": "python",
   "nbconvert_exporter": "python",
   "pygments_lexer": "ipython3",
   "version": "3.6.9"
  }
 },
 "nbformat": 4,
 "nbformat_minor": 4
}
