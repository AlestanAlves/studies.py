{
 "cells": [
  {
   "cell_type": "code",
   "execution_count": 1,
   "metadata": {},
   "outputs": [],
   "source": [
    "import re "
   ]
  },
  {
   "cell_type": "markdown",
   "metadata": {},
   "source": [
    "## [Docs re Library](https://docs.python.org/2/library/re.html)"
   ]
  },
  {
   "cell_type": "markdown",
   "metadata": {},
   "source": [
    "# Regex **re** = regular, **gex** = expression"
   ]
  },
  {
   "cell_type": "code",
   "execution_count": 21,
   "metadata": {},
   "outputs": [],
   "source": [
    "string_de_teste = 'Aleshow é top dms hehe a a A A A Aa aaa'"
   ]
  },
  {
   "cell_type": "code",
   "execution_count": 41,
   "metadata": {},
   "outputs": [],
   "source": [
    "string_de_teste2 = 'gato gatinho gatao gata gatinha gatona'"
   ]
  },
  {
   "cell_type": "code",
   "execution_count": 33,
   "metadata": {},
   "outputs": [],
   "source": [
    "padrao = re.search(r'A.', string_de_teste) "
   ]
  },
  {
   "cell_type": "code",
   "execution_count": 53,
   "metadata": {},
   "outputs": [],
   "source": [
    "padrao2 = re.findall(r'gat\\w+', string_de_teste2) "
   ]
  },
  {
   "cell_type": "code",
   "execution_count": 55,
   "metadata": {},
   "outputs": [],
   "source": [
    "padrao3 = re.findall(r'[gat]+', string_de_teste2) "
   ]
  },
  {
   "cell_type": "markdown",
   "metadata": {},
   "source": [
    "## r'padrao' o 'r' transforma string em **row string**\n"
   ]
  },
  {
   "cell_type": "markdown",
   "metadata": {},
   "source": [
    "## re.search recebe **dois parametros** \n",
    "### re.search('padrao que deseja encontrar', funcao)"
   ]
  },
  {
   "cell_type": "markdown",
   "metadata": {},
   "source": [
    "## O '.' ponto define ao search pegar a string ao lado"
   ]
  },
  {
   "cell_type": "code",
   "execution_count": 26,
   "metadata": {},
   "outputs": [
    {
     "name": "stdout",
     "output_type": "stream",
     "text": [
      "Ale\n"
     ]
    }
   ],
   "source": [
    "print(padrao.group())"
   ]
  },
  {
   "cell_type": "code",
   "execution_count": 37,
   "metadata": {},
   "outputs": [],
   "source": [
    "padrao = re.search(r'A\\w\\w', string_de_teste) "
   ]
  },
  {
   "cell_type": "markdown",
   "metadata": {},
   "source": [
    "## No search em padrões **\\w** pega letras ao lado"
   ]
  },
  {
   "cell_type": "markdown",
   "metadata": {},
   "source": [
    "## */w+* \n",
    "### retorna uma ou mais letras :)\n",
    "## /w* \n",
    "### retorna 0 ou infinitas vezes para achar as letras \n",
    "## /w+. \n",
    "### retorna a letra e um caracter após ela"
   ]
  },
  {
   "cell_type": "code",
   "execution_count": 19,
   "metadata": {},
   "outputs": [
    {
     "name": "stdout",
     "output_type": "stream",
     "text": [
      "eae galerinha\\n\n"
     ]
    }
   ],
   "source": [
    "print(r'eae galerinha\\n')"
   ]
  },
  {
   "cell_type": "code",
   "execution_count": 38,
   "metadata": {},
   "outputs": [
    {
     "name": "stdout",
     "output_type": "stream",
     "text": [
      "Ale\n"
     ]
    }
   ],
   "source": [
    "if padrao:\n",
    "    print(padrao.group())\n",
    "else:\n",
    "    print('not exist')"
   ]
  },
  {
   "cell_type": "code",
   "execution_count": 54,
   "metadata": {},
   "outputs": [
    {
     "name": "stdout",
     "output_type": "stream",
     "text": [
      "['gato ', 'gatinho ', 'gatao ', 'gata ', 'gatinha ', 'gatona']\n"
     ]
    }
   ],
   "source": [
    "if padrao:\n",
    "    print(padrao2)\n",
    "else:\n",
    "    print('not exist')"
   ]
  },
  {
   "cell_type": "markdown",
   "metadata": {},
   "source": [
    "## Por padrão o findall retorna uma **lista**"
   ]
  },
  {
   "cell_type": "code",
   "execution_count": 56,
   "metadata": {},
   "outputs": [
    {
     "name": "stdout",
     "output_type": "stream",
     "text": [
      "['g', 'a', 't', 'g', 'a', 't', 'g', 'a', 't', 'a', 'g', 'a', 't', 'a', 'g', 'a', 't', 'a', 'g', 'a', 't', 'a']\n"
     ]
    }
   ],
   "source": [
    "if padrao:\n",
    "    print(padrao3)\n",
    "else:\n",
    "    print('not exist')"
   ]
  },
  {
   "cell_type": "markdown",
   "metadata": {},
   "source": [
    "## **r'[lists]'**\n",
    "### retorna uma lista com diversas letras separadas\n",
    "## **r'[lists]+'**\n",
    "### retorna uma lista com diversas letras juntas e separadas se tiver\n",
    "## **r'[lists]+\\w+'**\n",
    "### retorna uma lista com as palavras\n",
    "## **\\w(4)**\n",
    "### retorna itens com 4 letras\n",
    "## **a{3}**\n",
    "### achar palavras com 3 a's"
   ]
  },
  {
   "cell_type": "code",
   "execution_count": null,
   "metadata": {},
   "outputs": [],
   "source": []
  }
 ],
 "metadata": {
  "kernelspec": {
   "display_name": "Python 3",
   "language": "python",
   "name": "python3"
  },
  "language_info": {
   "codemirror_mode": {
    "name": "ipython",
    "version": 3
   },
   "file_extension": ".py",
   "mimetype": "text/x-python",
   "name": "python",
   "nbconvert_exporter": "python",
   "pygments_lexer": "ipython3",
   "version": "3.6.8"
  }
 },
 "nbformat": 4,
 "nbformat_minor": 4
}
