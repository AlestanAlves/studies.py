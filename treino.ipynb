{
  "nbformat": 4,
  "nbformat_minor": 0,
  "metadata": {
    "colab": {
      "name": "treino.ipynb",
      "provenance": [],
      "collapsed_sections": [],
      "include_colab_link": true
    },
    "kernelspec": {
      "name": "python3",
      "display_name": "Python 3"
    }
  },
  "cells": [
    {
      "cell_type": "markdown",
      "metadata": {
        "id": "view-in-github",
        "colab_type": "text"
      },
      "source": [
        "<a href=\"https://colab.research.google.com/github/AlestanAlves/studies.py/blob/master/treino.ipynb\" target=\"_parent\"><img src=\"https://colab.research.google.com/assets/colab-badge.svg\" alt=\"Open In Colab\"/></a>"
      ]
    },
    {
      "cell_type": "code",
      "metadata": {
        "id": "yf6mGe8FXyAr",
        "colab_type": "code",
        "colab": {}
      },
      "source": [
        "from functools import reduce"
      ],
      "execution_count": 0,
      "outputs": []
    },
    {
      "cell_type": "code",
      "metadata": {
        "id": "Pn3u7uVBHP6I",
        "colab_type": "code",
        "colab": {}
      },
      "source": [
        "clients = [\n",
        "\n",
        "\t{\n",
        "\n",
        "\t\t\"client\": 1,\n",
        "\n",
        "\t\t\"day\": 1,\n",
        "\n",
        "\t\t\"price\": 50.25\n",
        "\n",
        "\t},\n",
        "\n",
        "\t{\n",
        "\n",
        "\t\t\"client\": 3,\n",
        "\n",
        "\t\t\"day\": 1,\n",
        "\n",
        "\t\t\"price\": 30.00\n",
        "\n",
        "\t},\n",
        "\n",
        "\t{\n",
        "\n",
        "\t\t\"client\": 2,\n",
        "\n",
        "\t\t\"day\": 1,\n",
        "\n",
        "\t\t\"price\": 50.25\n",
        "\n",
        "\t},\n",
        "\n",
        "\t{\n",
        "\n",
        "\t\t\"client\": 4,\n",
        "\n",
        "\t\t\"day\": 1,\n",
        "\n",
        "\t\t\"price\": 97.97\n",
        "\n",
        "\t},\n",
        "\n",
        "\t{\n",
        "\n",
        "\t\t\"client\": 3,\n",
        "\n",
        "\t\t\"day\": 1,\n",
        "\n",
        "\t\t\"price\": 12.88\n",
        "\n",
        "\t},\n",
        "\n",
        "\t{\n",
        "\n",
        "\t\t\"client\": 3,\n",
        "\n",
        "\t\t\"day\": 2,\n",
        "\n",
        "\t\t\"price\": 80.99\n",
        "\n",
        "\t},\n",
        "\n",
        "\t{\n",
        "\n",
        "\t\t\"client\": 5,\n",
        "\n",
        "\t\t\"day\": 2,\n",
        "\n",
        "\t\t\"price\": 220.84\n",
        "\n",
        "\t},\n",
        "\n",
        "\t{\n",
        "\n",
        "\t\t\"client\": 4,\n",
        "\n",
        "\t\t\"day\": 3,\n",
        "\n",
        "\t\t\"price\": 50.00\n",
        "\n",
        "\t},\n",
        "\n",
        "\t{\n",
        "\n",
        "\t\t\"client\": 3,\n",
        "\n",
        "\t\t\"day\": 4,\n",
        "\n",
        "\t\t\"price\": 110.43\n",
        "\n",
        "\t},\n",
        "\n",
        "\t{\n",
        "\n",
        "\t\t\"client\": 1,\n",
        "\n",
        "\t\t\"day\": 4,\n",
        "\n",
        "\t\t\"price\": 89.50\n",
        "\n",
        "\t},\n",
        "\n",
        "\t{\n",
        "\n",
        "\t\t\"client\": 5,\n",
        "\n",
        "\t\t\"day\": 4,\n",
        "\n",
        "\t\t\"price\": 0.99\n",
        "\n",
        "\t},\n",
        "\n",
        "\t{\n",
        "\n",
        "\t\t\"client\": 2,\n",
        "\n",
        "\t\t\"day\": 4,\n",
        "\n",
        "\t\t\"price\": 10.03\n",
        "\n",
        "\t},\n",
        "\n",
        "\t{\n",
        "\n",
        "\t\t\"client\": 5,\n",
        "\n",
        "\t\t\"day\": 4,\n",
        "\n",
        "\t\t\"price\": 71.66\n",
        "\n",
        "\t},\n",
        "\n",
        "\t{\n",
        "\n",
        "\t\t\"client\": 3,\n",
        "\n",
        "\t\t\"day\": 4,\n",
        "\n",
        "\t\t\"price\": 34.75\n",
        "\n",
        "\t},\n",
        "\n",
        "\t{\n",
        "\n",
        "\t\t\"client\": 1,\n",
        "\n",
        "\t\t\"day\": 4,\n",
        "\n",
        "\t\t\"price\": 10.20\n",
        "\n",
        "\t},\n",
        "\n",
        "\t{\n",
        "\n",
        "\t\t\"client\": 2,\n",
        "\n",
        "\t\t\"day\": 4,\n",
        "\n",
        "\t\t\"price\": 100.99\n",
        "\n",
        "\t},\n",
        "\n",
        "\t{\n",
        "\n",
        "\t\t\"client\": 1,\n",
        "\n",
        "\t\t\"day\": 5,\n",
        "\n",
        "\t\t\"price\": 22.00\n",
        "\n",
        "\t},\n",
        "\n",
        "\t{\n",
        "\n",
        "\t\t\"client\": 3,\n",
        "\n",
        "\t\t\"day\": 5,\n",
        "\n",
        "\t\t\"price\": 123.99\n",
        "\n",
        "\t},\n",
        "\n",
        "\t{\n",
        "\n",
        "\t\t\"client\": 5,\n",
        "\n",
        "\t\t\"day\": 5,\n",
        "\n",
        "\t\t\"price\": 5.10\n",
        "\n",
        "\t}\n",
        "\n",
        "]\n",
        "\n"
      ],
      "execution_count": 0,
      "outputs": []
    },
    {
      "cell_type": "code",
      "metadata": {
        "id": "WBSliFBrR62V",
        "colab_type": "code",
        "outputId": "d05827b0-25ff-4cda-b8f0-b60a6b7ff19e",
        "colab": {
          "base_uri": "https://localhost:8080/",
          "height": 52
        }
      },
      "source": [
        "ticket = list(map(lambda x : x['price'], clients))\n",
        "#soma_todos = reduce((lambda x, y: x + y), ticket)\n",
        "total_de_prices = float(len(ticket))\n",
        "#print(sum(ticket)/len(ticket))\n",
        "print(soma_todos)\n",
        "result = soma_todos / total_de_prices\n",
        "\n",
        "print(\"O ticket médio é:\", result)\n",
        "\n",
        "\n"
      ],
      "execution_count": 9,
      "outputs": [
        {
          "output_type": "stream",
          "text": [
            "1172.82\n",
            "O ticket médio é: 61.72736842105263\n"
          ],
          "name": "stdout"
        }
      ]
    },
    {
      "cell_type": "markdown",
      "metadata": {
        "id": "nzm-NtYPlV-j",
        "colab_type": "text"
      },
      "source": [
        "### **Determinar quanto os clientes 1 e 3 gastaram individualmente no dia 4**"
      ]
    },
    {
      "cell_type": "code",
      "metadata": {
        "id": "chv6xYH8T-DK",
        "colab_type": "code",
        "outputId": "435add42-6105-4e2b-b303-60efd9dbdb20",
        "colab": {
          "base_uri": "https://localhost:8080/",
          "height": 52
        }
      },
      "source": [
        "client1 = list(filter(lambda x:x['day'] == 4 and x['client'] == 1, clients))\n",
        "prices_client1 = list(map(lambda x:x[\"price\"], client1))\n",
        "print(\"gasto individual do dia 4 do cliente 1:\", sum(price_client1))\n",
        "client3 = list(filter(lambda x:x['day'] == 4 and x['client'] == 3, clients))\n",
        "prices_client3 = list(map(lambda x:x[\"price\"], client3))\n",
        "print(\"gasto individual do dia 4 do cliente 3:\", sum(prices_client3))"
      ],
      "execution_count": 0,
      "outputs": [
        {
          "output_type": "stream",
          "text": [
            "gasto individual do dia 4 do cliente 1: 99.7\n",
            "gasto individual do dia 4 do cliente 3: 145.18\n"
          ],
          "name": "stdout"
        }
      ]
    },
    {
      "cell_type": "code",
      "metadata": {
        "id": "9thF_FDTlU1K",
        "colab_type": "code",
        "outputId": "b0d5aeca-29bd-442c-8e88-e1a006afa0d5",
        "colab": {
          "base_uri": "https://localhost:8080/",
          "height": 52
        }
      },
      "source": [
        "client1 = 0\n",
        "client3 = 0\n",
        "\n",
        "\n",
        "\n",
        "for r in clients:\n",
        "  if r[\"client\"] == 1 and r['day'] == 4:\n",
        "    client1 = client1 + r['price']\n",
        "  elif r[\"client\"] == 3 and r['day'] == 4:\n",
        "    client3 = client3 + r['price']\n",
        "\n",
        "print(client1)\n",
        "print(client3)\n",
        "\n",
        "#soma = client[1]\n",
        "#somatotal = sum(soma)\n",
        "#print(soma)\n",
        "#print(somatotal)"
      ],
      "execution_count": 127,
      "outputs": [
        {
          "output_type": "stream",
          "text": [
            "99.7\n",
            "145.18\n"
          ],
          "name": "stdout"
        }
      ]
    },
    {
      "cell_type": "code",
      "metadata": {
        "id": "s99mk3TGGL5i",
        "colab_type": "code",
        "colab": {
          "base_uri": "https://localhost:8080/",
          "height": 34
        },
        "outputId": "731f0b30-d339-4436-a087-8f6cf57700ad"
      },
      "source": [
        "clients = {}\n",
        "\n",
        "for r in clients:\n",
        "  if r['day'] == 3:\n",
        "      if r['client'] in clients:\n",
        "        continue\n",
        "      else:\n",
        "        clients[r['price']]\n",
        "clients\n",
        "\n"
      ],
      "execution_count": 130,
      "outputs": [
        {
          "output_type": "execute_result",
          "data": {
            "text/plain": [
              "{}"
            ]
          },
          "metadata": {
            "tags": []
          },
          "execution_count": 130
        }
      ]
    },
    {
      "cell_type": "code",
      "metadata": {
        "id": "JRBtezUOe741",
        "colab_type": "code",
        "outputId": "996e1b34-7b0c-4ac1-be1d-5a1ed17d5615",
        "colab": {
          "base_uri": "https://localhost:8080/",
          "height": 34
        }
      },
      "source": [
        "day3 = list(filter(lambda x:x['day'] == 3, clients))\n",
        "pricesDay3 = list(map(lambda x:x['price'], day3))\n",
        "print(pricesDay3)"
      ],
      "execution_count": 0,
      "outputs": [
        {
          "output_type": "stream",
          "text": [
            "[50.0]\n"
          ],
          "name": "stdout"
        }
      ]
    },
    {
      "cell_type": "code",
      "metadata": {
        "id": "4v_DAiLqjZDf",
        "colab_type": "code",
        "colab": {
          "base_uri": "https://localhost:8080/",
          "height": 86
        },
        "outputId": "6ce5951b-b865-429c-d285-a23b7a0b7674"
      },
      "source": [
        "client1 = list(filter(lambda x:x['client'] == 1, clients))\n",
        "ticketClient1 = list(map(lambda x:x['price'], client1))\n",
        "client2 = list(filter(lambda x:x['client'] == 2, clients))\n",
        "ticketClient2 = list(map(lambda x:x['price'], client2))\n",
        "client3 = list(filter(lambda x:x['client'] == 3, clients))\n",
        "ticketClient3 = list(map(lambda x:x['price'], client3))\n",
        "\n",
        "\n",
        "print (\"\\n ticket do client 1 é igual a\", sum(ticketClient1), \"\\n ticket client 2 é igual a\", sum(ticketClient2), \"\\n ticket do client 3 é igual a\", sum(ticketClient3))\n",
        "\n",
        "\n",
        "\n"
      ],
      "execution_count": 112,
      "outputs": [
        {
          "output_type": "stream",
          "text": [
            "\n",
            " ticket do client 1 é igual a 171.95 \n",
            " ticket client 2 é igual a 161.26999999999998 \n",
            " ticket do client 3 é igual a 393.04\n"
          ],
          "name": "stdout"
        }
      ]
    },
    {
      "cell_type": "code",
      "metadata": {
        "id": "uKV0KIaLABCP",
        "colab_type": "code",
        "colab": {}
      },
      "source": [
        ""
      ],
      "execution_count": 0,
      "outputs": []
    }
  ]
}